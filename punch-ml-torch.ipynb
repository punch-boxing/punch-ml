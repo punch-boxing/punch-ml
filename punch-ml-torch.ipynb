{
  "nbformat": 4,
  "nbformat_minor": 0,
  "metadata": {
    "colab": {
      "provenance": [],
      "authorship_tag": "ABX9TyN4UzFrKImwAJsJ2vD+ftHZ",
      "include_colab_link": true
    },
    "kernelspec": {
      "name": "python3",
      "display_name": "Python 3"
    },
    "language_info": {
      "name": "python"
    }
  },
  "cells": [
    {
      "cell_type": "markdown",
      "metadata": {
        "id": "view-in-github",
        "colab_type": "text"
      },
      "source": [
        "<a href=\"https://colab.research.google.com/github/punch-boxing/punch-ml/blob/main/punch-ml-torch.ipynb\" target=\"_parent\"><img src=\"https://colab.research.google.com/assets/colab-badge.svg\" alt=\"Open In Colab\"/></a>"
      ]
    },
    {
      "cell_type": "markdown",
      "source": [
        "# 0. Settings"
      ],
      "metadata": {
        "id": "k8HlMICx4Oeu"
      }
    },
    {
      "cell_type": "code",
      "source": [
        "# default values\n",
        "PUNCH_TYPES = {\n",
        "    \"None\": 0,\n",
        "    \"Straight\": 1,\n",
        "    \"Hook\": 2,\n",
        "    \"Body\": 3,\n",
        "    \"Uppercut\": 4,\n",
        "}\n",
        "\n",
        "# values for model training\n",
        "INPUT_SIZE = 3\n",
        "HIDDEN_SIZE = 10\n",
        "NUM_LAYERS = 2\n",
        "WINDOW_SIZE = 20\n",
        "\n",
        "\n",
        "# values for preparing data\n",
        "MAX_DATA_NUMBER = 15 # file counts\n",
        "ACCELERATION_DATA_TYPE = \"Acceleration\" # \"Acceleration\" for \"Raw Acceleration\""
      ],
      "metadata": {
        "id": "3bxqJtAS4OGz"
      },
      "execution_count": 70,
      "outputs": []
    },
    {
      "cell_type": "markdown",
      "source": [
        "# 1. Preparing Model"
      ],
      "metadata": {
        "id": "5X_mopN-3szE"
      }
    },
    {
      "cell_type": "code",
      "execution_count": 71,
      "metadata": {
        "id": "-WgtG6WL0dsv"
      },
      "outputs": [],
      "source": [
        "import torch\n",
        "import torch.nn as nn\n",
        "import torch.nn.functional as F\n",
        "\n",
        "class PUNCH_ML(torch.nn.Module):\n",
        "    def __init__(self):\n",
        "        super(PUNCH_ML, self).__init__()\n",
        "\n",
        "        # a layer that puts the accelerometer value into tanh function, this layer makes the accelerometer value from -1 ~ 1\n",
        "        self.tanh = nn.Tanh()\n",
        "\n",
        "        self.gru = nn.GRU(input_size=INPUT_SIZE, hidden_size=HIDDEN_SIZE, num_layers=NUM_LAYERS)\n",
        "        self.linear = nn.Linear(HIDDEN_SIZE, len(PUNCH_TYPES))\n",
        "\n",
        "    def forward(self, x):\n",
        "        x = self.tanh(x)\n",
        "        x, _ = self.gru(x)\n",
        "        x = self.linear(x[-1])\n",
        "        return x\n"
      ]
    },
    {
      "cell_type": "markdown",
      "source": [
        "# 2. Preparing Data"
      ],
      "metadata": {
        "id": "6c4aMwT63val"
      }
    },
    {
      "cell_type": "code",
      "source": [
        "import pandas as pd\n",
        "\n",
        "raw_datas = []\n",
        "\n",
        "# Columns\n",
        "# Index,Time,Raw Acceleration X,Raw Acceleration Y,Raw Acceleration Z,Acceleration X,Acceleration Y,Acceleration Z,Angular Velocity X,Angular Velocity Y,Angular Velocity Z,Orientation X,Orientation Y,Orientation Z,Punch Type\n",
        "\n",
        "for i in range(1, MAX_DATA_NUMBER + 1):\n",
        "  try:\n",
        "    data = pd.read_csv(f\"{i}.csv\")\n",
        "    data[\"Punch Index\"] = data[\"Punch Type\"].map(PUNCH_TYPES).fillna(0).astype(int)\n",
        "    raw_datas.append(data)\n",
        "  except:\n",
        "    print(f\"No data for {i}.csv\")"
      ],
      "metadata": {
        "colab": {
          "base_uri": "https://localhost:8080/"
        },
        "id": "rEIflr6i15nE",
        "outputId": "57a2ace4-bc27-40a7-d0b1-4b11813d274a"
      },
      "execution_count": 72,
      "outputs": [
        {
          "output_type": "stream",
          "name": "stdout",
          "text": [
            "No data for 2.csv\n",
            "No data for 3.csv\n",
            "No data for 4.csv\n",
            "No data for 5.csv\n",
            "No data for 6.csv\n",
            "No data for 7.csv\n",
            "No data for 8.csv\n",
            "No data for 9.csv\n",
            "No data for 10.csv\n",
            "No data for 11.csv\n",
            "No data for 12.csv\n",
            "No data for 13.csv\n",
            "No data for 14.csv\n",
            "No data for 15.csv\n"
          ]
        }
      ]
    },
    {
      "cell_type": "code",
      "source": [
        "import numpy as np\n",
        "from sklearn.model_selection import train_test_split\n",
        "\n",
        "datas = []\n",
        "targets = []\n",
        "\n",
        "for data in raw_datas:\n",
        "  x = data[ACCELERATION_DATA_TYPE + \" X\"].values\n",
        "  y = data[ACCELERATION_DATA_TYPE + \" Y\"].values\n",
        "  z = data[ACCELERATION_DATA_TYPE + \" Z\"].values\n",
        "  punch = data['Punch Index'].values\n",
        "\n",
        "  for i in range(len(data) - WINDOW_SIZE):\n",
        "    datas.append(np.array([\n",
        "        x[i:i+WINDOW_SIZE],\n",
        "        y[i:i+WINDOW_SIZE],\n",
        "        z[i:i+WINDOW_SIZE],\n",
        "    ]).T) # Transpose to get shape (WINDOW_SIZE, num_features)\n",
        "    targets.append(punch[i + WINDOW_SIZE])\n",
        "\n",
        "\n",
        "X = np.array(datas)\n",
        "y = np.array(targets)\n",
        "\n",
        "X_train, X_test, y_train, y_test = train_test_split(X, y, test_size=0.2, random_state=42)\n",
        "\n",
        "\n",
        "train_loader = torch.utils.data.DataLoader(\n",
        "    torch.utils.data.TensorDataset(torch.from_numpy(X_train), torch.from_numpy(y_train)),\n",
        "    batch_size=64,\n",
        "    shuffle=True\n",
        ")\n",
        "\n",
        "test_loader = torch.utils.data.DataLoader(\n",
        "    torch.utils.data.TensorDataset(torch.from_numpy(X_test), torch.from_numpy(y_test)),\n",
        "    batch_size=64,\n",
        "    shuffle=False\n",
        ")\n",
        "\n",
        "for data, target in train_loader:\n",
        "  print(data.shape, target.shape)\n",
        "  break"
      ],
      "metadata": {
        "colab": {
          "base_uri": "https://localhost:8080/"
        },
        "id": "TXEcExCA5osU",
        "outputId": "cca94d28-f38e-4daa-b296-cf7a13230339"
      },
      "execution_count": 79,
      "outputs": [
        {
          "output_type": "stream",
          "name": "stdout",
          "text": [
            "torch.Size([64, 20, 3]) torch.Size([64])\n"
          ]
        }
      ]
    },
    {
      "cell_type": "markdown",
      "source": [
        "# 3. Compiling Model"
      ],
      "metadata": {
        "id": "rWprTFS86dQh"
      }
    },
    {
      "cell_type": "code",
      "source": [
        "from torchsummary import summary\n",
        "\n",
        "device = torch.device('cuda' if torch.cuda.is_available() else 'cpu')\n",
        "print(f\"Using Device : {device}\")\n",
        "\n",
        "model = PUNCH_ML().to(device)\n",
        "criterion = nn.CrossEntropyLoss()\n",
        "optimizer = torch.optim.Adam(model.parameters(), lr=0.001)\n",
        "\n",
        "summary(model, (WINDOW_SIZE, INPUT_SIZE))\n"
      ],
      "metadata": {
        "colab": {
          "base_uri": "https://localhost:8080/"
        },
        "id": "7A68I92w6fE-",
        "outputId": "b9b906e8-b6fa-40e6-fd91-cac6e789f29c"
      },
      "execution_count": 96,
      "outputs": [
        {
          "output_type": "stream",
          "name": "stdout",
          "text": [
            "Using Device : cpu\n",
            "----------------------------------------------------------------\n",
            "        Layer (type)               Output Shape         Param #\n",
            "================================================================\n",
            "              Tanh-1                [-1, 20, 3]               0\n",
            "               GRU-2  [[-1, 20, 10], [-1, 20, 10]]               0\n",
            "            Linear-3                    [-1, 5]              55\n",
            "================================================================\n",
            "Total params: 55\n",
            "Trainable params: 55\n",
            "Non-trainable params: 0\n",
            "----------------------------------------------------------------\n",
            "Input size (MB): 0.00\n",
            "Forward/backward pass size (MB): 0.30\n",
            "Params size (MB): 0.00\n",
            "Estimated Total Size (MB): 0.31\n",
            "----------------------------------------------------------------\n"
          ]
        }
      ]
    },
    {
      "cell_type": "markdown",
      "source": [
        "# 4. Training Model"
      ],
      "metadata": {
        "id": "SAo420NgExxP"
      }
    },
    {
      "cell_type": "code",
      "source": [
        "best_loss = float('inf')\n",
        "epochs = 100\n",
        "patience = 5\n",
        "counter = 0\n",
        "\n",
        "for epoch in range(epochs):\n",
        "  model.train()\n",
        "  train_loss = .0\n",
        "\n",
        "  for data, target in train_loader:\n",
        "    data, target = data.permute(1, 0, 2).to(device, dtype = torch.float32), target.to(device)\n",
        "    output = model(data)\n",
        "    loss = criterion(output, target)\n",
        "    optimizer.zero_grad()\n",
        "    loss.backward()\n",
        "    optimizer.step()\n",
        "    train_loss += loss.item()\n",
        "\n",
        "  train_loss /= len(train_loader)\n",
        "\n",
        "  model.eval()\n",
        "  val_loss = .0\n",
        "  with torch.no_grad():\n",
        "    for data, target in test_loader:\n",
        "      data, target = data.permute(1, 0, 2).to(device, dtype = torch.float32), target.to(device) # Added dtype=torch.float32 here\n",
        "      output = model(data)\n",
        "      loss = criterion(output, target)\n",
        "      val_loss += loss.item()\n",
        "\n",
        "  val_loss /= len(test_loader)\n",
        "  print(f\"Epoch {epoch + 1}/{epochs}, Train Loss: {train_loss:.4f}, Validation Loss: {val_loss:.4f}\")\n",
        "\n",
        "  if val_loss < best_loss:\n",
        "      best_loss = val_loss\n",
        "      counter = 0\n",
        "      # torch.save(model.state_dict(), 'best_model.pth')\n",
        "  else:\n",
        "      counter += 1\n",
        "      if counter >= patience:\n",
        "          print(\"Early stopping\")\n",
        "          break"
      ],
      "metadata": {
        "colab": {
          "base_uri": "https://localhost:8080/"
        },
        "id": "OdaJnons8HvQ",
        "outputId": "83c220c2-cb8b-4170-f59b-f225bb6feab0"
      },
      "execution_count": 83,
      "outputs": [
        {
          "output_type": "stream",
          "name": "stdout",
          "text": [
            "Epoch 1/100, Train Loss: 1.6431, Validation Loss: 1.5811\n",
            "Epoch 2/100, Train Loss: 1.5347, Validation Loss: 1.4670\n",
            "Epoch 3/100, Train Loss: 1.4139, Validation Loss: 1.3312\n",
            "Epoch 4/100, Train Loss: 1.2642, Validation Loss: 1.1543\n",
            "Epoch 5/100, Train Loss: 1.0713, Validation Loss: 0.9325\n",
            "Epoch 6/100, Train Loss: 0.8469, Validation Loss: 0.7009\n",
            "Epoch 7/100, Train Loss: 0.6399, Validation Loss: 0.5137\n",
            "Epoch 8/100, Train Loss: 0.5267, Validation Loss: 0.3862\n",
            "Epoch 9/100, Train Loss: 0.3854, Validation Loss: 0.3053\n",
            "Epoch 10/100, Train Loss: 0.3210, Validation Loss: 0.2512\n",
            "Epoch 11/100, Train Loss: 0.3274, Validation Loss: 0.2153\n",
            "Epoch 12/100, Train Loss: 0.2488, Validation Loss: 0.1910\n",
            "Epoch 13/100, Train Loss: 0.2280, Validation Loss: 0.1725\n",
            "Epoch 14/100, Train Loss: 0.2122, Validation Loss: 0.1583\n",
            "Epoch 15/100, Train Loss: 0.2001, Validation Loss: 0.1469\n",
            "Epoch 16/100, Train Loss: 0.1902, Validation Loss: 0.1378\n",
            "Epoch 17/100, Train Loss: 0.1822, Validation Loss: 0.1303\n",
            "Epoch 18/100, Train Loss: 0.1755, Validation Loss: 0.1240\n",
            "Epoch 19/100, Train Loss: 0.1697, Validation Loss: 0.1187\n",
            "Epoch 20/100, Train Loss: 0.1648, Validation Loss: 0.1141\n",
            "Epoch 21/100, Train Loss: 0.1606, Validation Loss: 0.1102\n",
            "Epoch 22/100, Train Loss: 0.1568, Validation Loss: 0.1066\n",
            "Epoch 23/100, Train Loss: 0.1534, Validation Loss: 0.1035\n",
            "Epoch 24/100, Train Loss: 0.1504, Validation Loss: 0.1008\n",
            "Epoch 25/100, Train Loss: 0.1477, Validation Loss: 0.0983\n",
            "Epoch 26/100, Train Loss: 0.1453, Validation Loss: 0.0961\n",
            "Epoch 27/100, Train Loss: 0.1430, Validation Loss: 0.0941\n",
            "Epoch 28/100, Train Loss: 0.1410, Validation Loss: 0.0923\n",
            "Epoch 29/100, Train Loss: 0.1392, Validation Loss: 0.0907\n",
            "Epoch 30/100, Train Loss: 0.1374, Validation Loss: 0.0892\n",
            "Epoch 31/100, Train Loss: 0.1358, Validation Loss: 0.0878\n",
            "Epoch 32/100, Train Loss: 0.1344, Validation Loss: 0.0866\n",
            "Epoch 33/100, Train Loss: 0.1329, Validation Loss: 0.0854\n",
            "Epoch 34/100, Train Loss: 0.1316, Validation Loss: 0.0844\n",
            "Epoch 35/100, Train Loss: 0.1819, Validation Loss: 0.0835\n",
            "Epoch 36/100, Train Loss: 0.1293, Validation Loss: 0.0830\n",
            "Epoch 37/100, Train Loss: 0.1790, Validation Loss: 0.0823\n",
            "Epoch 38/100, Train Loss: 0.1268, Validation Loss: 0.0819\n",
            "Epoch 39/100, Train Loss: 0.1259, Validation Loss: 0.0813\n",
            "Epoch 40/100, Train Loss: 0.1249, Validation Loss: 0.0805\n",
            "Epoch 41/100, Train Loss: 0.1238, Validation Loss: 0.0799\n",
            "Epoch 42/100, Train Loss: 0.1715, Validation Loss: 0.0790\n",
            "Epoch 43/100, Train Loss: 0.1217, Validation Loss: 0.0790\n",
            "Epoch 44/100, Train Loss: 0.1208, Validation Loss: 0.0786\n",
            "Epoch 45/100, Train Loss: 0.1195, Validation Loss: 0.0778\n",
            "Epoch 46/100, Train Loss: 0.1182, Validation Loss: 0.0768\n",
            "Epoch 47/100, Train Loss: 0.1171, Validation Loss: 0.0763\n",
            "Epoch 48/100, Train Loss: 0.1156, Validation Loss: 0.0755\n",
            "Epoch 49/100, Train Loss: 0.1143, Validation Loss: 0.0747\n",
            "Epoch 50/100, Train Loss: 0.1131, Validation Loss: 0.0736\n",
            "Epoch 51/100, Train Loss: 0.1125, Validation Loss: 0.0729\n",
            "Epoch 52/100, Train Loss: 0.1107, Validation Loss: 0.0720\n",
            "Epoch 53/100, Train Loss: 0.1094, Validation Loss: 0.0708\n",
            "Epoch 54/100, Train Loss: 0.1081, Validation Loss: 0.0702\n",
            "Epoch 55/100, Train Loss: 0.1065, Validation Loss: 0.0694\n",
            "Epoch 56/100, Train Loss: 0.1048, Validation Loss: 0.0684\n",
            "Epoch 57/100, Train Loss: 0.1043, Validation Loss: 0.0675\n",
            "Epoch 58/100, Train Loss: 0.1018, Validation Loss: 0.0665\n",
            "Epoch 59/100, Train Loss: 0.1007, Validation Loss: 0.0657\n",
            "Epoch 60/100, Train Loss: 0.1386, Validation Loss: 0.0648\n",
            "Epoch 61/100, Train Loss: 0.0973, Validation Loss: 0.0646\n",
            "Epoch 62/100, Train Loss: 0.0956, Validation Loss: 0.0636\n",
            "Epoch 63/100, Train Loss: 0.0941, Validation Loss: 0.0625\n",
            "Epoch 64/100, Train Loss: 0.0936, Validation Loss: 0.0613\n",
            "Epoch 65/100, Train Loss: 0.0910, Validation Loss: 0.0603\n",
            "Epoch 66/100, Train Loss: 0.0917, Validation Loss: 0.0596\n",
            "Epoch 67/100, Train Loss: 0.0890, Validation Loss: 0.0587\n",
            "Epoch 68/100, Train Loss: 0.0891, Validation Loss: 0.0578\n",
            "Epoch 69/100, Train Loss: 0.0872, Validation Loss: 0.0569\n",
            "Epoch 70/100, Train Loss: 0.0849, Validation Loss: 0.0567\n",
            "Epoch 71/100, Train Loss: 0.0833, Validation Loss: 0.0558\n",
            "Epoch 72/100, Train Loss: 0.1134, Validation Loss: 0.0554\n",
            "Epoch 73/100, Train Loss: 0.0840, Validation Loss: 0.0565\n",
            "Epoch 74/100, Train Loss: 0.0814, Validation Loss: 0.0556\n",
            "Epoch 75/100, Train Loss: 0.0803, Validation Loss: 0.0535\n",
            "Epoch 76/100, Train Loss: 0.0804, Validation Loss: 0.0530\n",
            "Epoch 77/100, Train Loss: 0.0769, Validation Loss: 0.0525\n",
            "Epoch 78/100, Train Loss: 0.0764, Validation Loss: 0.0517\n",
            "Epoch 79/100, Train Loss: 0.0751, Validation Loss: 0.0512\n",
            "Epoch 80/100, Train Loss: 0.0741, Validation Loss: 0.0510\n",
            "Epoch 81/100, Train Loss: 0.1055, Validation Loss: 0.0521\n",
            "Epoch 82/100, Train Loss: 0.0727, Validation Loss: 0.0537\n",
            "Epoch 83/100, Train Loss: 0.0722, Validation Loss: 0.0528\n",
            "Epoch 84/100, Train Loss: 0.0705, Validation Loss: 0.0508\n",
            "Epoch 85/100, Train Loss: 0.0697, Validation Loss: 0.0489\n",
            "Epoch 86/100, Train Loss: 0.0689, Validation Loss: 0.0487\n",
            "Epoch 87/100, Train Loss: 0.0679, Validation Loss: 0.0486\n",
            "Epoch 88/100, Train Loss: 0.0675, Validation Loss: 0.0491\n",
            "Epoch 89/100, Train Loss: 0.0697, Validation Loss: 0.0480\n",
            "Epoch 90/100, Train Loss: 0.0659, Validation Loss: 0.0466\n",
            "Epoch 91/100, Train Loss: 0.0651, Validation Loss: 0.0470\n",
            "Epoch 92/100, Train Loss: 0.0649, Validation Loss: 0.0485\n",
            "Epoch 93/100, Train Loss: 0.0635, Validation Loss: 0.0473\n",
            "Epoch 94/100, Train Loss: 0.0671, Validation Loss: 0.0458\n",
            "Epoch 95/100, Train Loss: 0.0648, Validation Loss: 0.0446\n",
            "Epoch 96/100, Train Loss: 0.0636, Validation Loss: 0.0454\n",
            "Epoch 97/100, Train Loss: 0.0610, Validation Loss: 0.0446\n",
            "Epoch 98/100, Train Loss: 0.0606, Validation Loss: 0.0457\n",
            "Epoch 99/100, Train Loss: 0.0596, Validation Loss: 0.0455\n",
            "Epoch 100/100, Train Loss: 0.0654, Validation Loss: 0.0459\n",
            "Early stopping\n"
          ]
        }
      ]
    },
    {
      "cell_type": "markdown",
      "source": [
        "# 5. Evaluating Model"
      ],
      "metadata": {
        "id": "qF4MCjZXE1Hz"
      }
    },
    {
      "cell_type": "code",
      "source": [
        "model.eval()\n",
        "\n",
        "test_loss, correct = .0, 0\n",
        "\n",
        "with torch.no_grad():\n",
        "  for data, target in test_loader:\n",
        "    data, target = data.permute(1, 0, 2).to(device, dtype = torch.float32), target.to(device)\n",
        "\n",
        "    output = model(data)\n",
        "\n",
        "    test_loss += criterion(output, target).item()\n",
        "\n",
        "    correct += (output.argmax(1) == target).sum().item()\n",
        "\n",
        "print('Test Loss: {:.6f}'.format(test_loss / len(test_loader)))\n",
        "print('Accuracy: {:.3f}%'.format(100. * correct / len(test_loader.dataset)))\n"
      ],
      "metadata": {
        "colab": {
          "base_uri": "https://localhost:8080/"
        },
        "id": "HJJSERXCCNxz",
        "outputId": "d2e106ea-72e0-4453-8d26-9ca089e532f5"
      },
      "execution_count": 85,
      "outputs": [
        {
          "output_type": "stream",
          "name": "stdout",
          "text": [
            "Test Loss: 0.045890\n",
            "Accuracy: 98.630%\n"
          ]
        }
      ]
    },
    {
      "cell_type": "markdown",
      "source": [
        "# 6. Downloading Model"
      ],
      "metadata": {
        "id": "LnzB8KF0E3e-"
      }
    },
    {
      "cell_type": "code",
      "source": [
        "result = torch.jit.trace(model, data.permute(1, 0, 2).to(device, dtype = torch.float32))\n",
        "\n",
        "result.save(f\"GRU_{INPUT_SIZE}I_{HIDDEN_SIZE}H_{NUM_LAYERS}L_{WINDOW_SIZE}W.pt\")"
      ],
      "metadata": {
        "id": "fgf9guCpE5U0"
      },
      "execution_count": 90,
      "outputs": []
    }
  ]
}