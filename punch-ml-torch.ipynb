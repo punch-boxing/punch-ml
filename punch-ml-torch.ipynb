{
  "nbformat": 4,
  "nbformat_minor": 0,
  "metadata": {
    "colab": {
      "provenance": [],
      "gpuType": "T4",
      "authorship_tag": "ABX9TyO5Bk6TeJL2mQt0feb+0l5n",
      "include_colab_link": true
    },
    "kernelspec": {
      "name": "python3",
      "display_name": "Python 3"
    },
    "language_info": {
      "name": "python"
    },
    "accelerator": "GPU"
  },
  "cells": [
    {
      "cell_type": "markdown",
      "metadata": {
        "id": "view-in-github",
        "colab_type": "text"
      },
      "source": [
        "<a href=\"https://colab.research.google.com/github/punch-boxing/punch-ml/blob/main/punch-ml-pytorch.ipynb\" target=\"_parent\"><img src=\"https://colab.research.google.com/assets/colab-badge.svg\" alt=\"Open In Colab\"/></a>"
      ]
    },
    {
      "cell_type": "markdown",
      "source": [
        "# 0. Settings"
      ],
      "metadata": {
        "id": "k8HlMICx4Oeu"
      }
    },
    {
      "cell_type": "code",
      "source": [
        "# default values\n",
        "PUNCH_TYPES = {\n",
        "    \"None\": 0,\n",
        "    \"Straight\": 1,\n",
        "    \"Hook\": 2,\n",
        "    \"Body\": 3,\n",
        "    \"Uppercut\": 4,\n",
        "}\n",
        "\n",
        "# values for model training\n",
        "INPUT_SIZE = 3\n",
        "HIDDEN_SIZE = 10\n",
        "NUM_LAYERS = 2\n",
        "WINDOW_SIZE = 20\n",
        "\n",
        "\n",
        "# values for preparing data\n",
        "MAX_DATA_NUMBER = 15 # file counts\n",
        "ACCELERATION_DATA_TYPE = \"Acceleration\" # \"Acceleration\" for \"Raw Acceleration\"\n",
        "\n",
        "device = torch.device('cuda' if torch.cuda.is_available() else 'cpu')"
      ],
      "metadata": {
        "id": "3bxqJtAS4OGz"
      },
      "execution_count": 97,
      "outputs": []
    },
    {
      "cell_type": "markdown",
      "source": [
        "# 1. Preparing Model"
      ],
      "metadata": {
        "id": "5X_mopN-3szE"
      }
    },
    {
      "cell_type": "code",
      "execution_count": 98,
      "metadata": {
        "id": "-WgtG6WL0dsv"
      },
      "outputs": [],
      "source": [
        "import torch\n",
        "import torch.nn as nn\n",
        "import torch.nn.functional as F\n",
        "\n",
        "class PUNCH_ML(nn.Module):\n",
        "    def __init__(self, input_size=INPUT_SIZE, hidden_size=HIDDEN_SIZE, num_layers=NUM_LAYERS, num_classes=len(PUNCH_TYPES), stateful=False):\n",
        "        super(PUNCH_ML, self).__init__() # Corrected class name here\n",
        "        self.stateful = stateful\n",
        "        self.hidden_size = hidden_size\n",
        "        self.num_layers = num_layers\n",
        "        self.hidden = None  # used only if stateful\n",
        "\n",
        "        # a layer that puts the accelerometer value into tanh function, this layer makes the accelerometer value from -1 ~ 1\n",
        "        self.tanh = nn.Tanh()\n",
        "        self.gru = nn.GRU(input_size, hidden_size, num_layers)\n",
        "        self.fc = nn.Linear(hidden_size, num_classes)\n",
        "\n",
        "    def reset_state(self, batch_size=1, device='cpu'):\n",
        "        self.hidden = torch.zeros(self.num_layers, batch_size, self.hidden_size).to(device)\n",
        "\n",
        "    def forward(self, x):\n",
        "        x = self.tanh(x)\n",
        "\n",
        "        if self.stateful:\n",
        "            out, self.hidden = self.gru(x, self.hidden.detach())\n",
        "        else:\n",
        "            out, _ = self.gru(x)\n",
        "\n",
        "        out = self.fc(out[-1])  # use last timestep's output\n",
        "        return out"
      ]
    },
    {
      "cell_type": "markdown",
      "source": [
        "# 2. Preparing Data"
      ],
      "metadata": {
        "id": "6c4aMwT63val"
      }
    },
    {
      "cell_type": "code",
      "source": [
        "import pandas as pd\n",
        "\n",
        "raw_datas = []\n",
        "\n",
        "# Columns\n",
        "# Index,Time,Raw Acceleration X,Raw Acceleration Y,Raw Acceleration Z,Acceleration X,Acceleration Y,Acceleration Z,Angular Velocity X,Angular Velocity Y,Angular Velocity Z,Orientation X,Orientation Y,Orientation Z,Punch Type\n",
        "\n",
        "for i in range(1, MAX_DATA_NUMBER + 1):\n",
        "  try:\n",
        "    data = pd.read_csv(f\"{i}.csv\")\n",
        "    data[\"Punch Index\"] = data[\"Punch Type\"].map(PUNCH_TYPES).fillna(0).astype(int)\n",
        "    raw_datas.append(data)\n",
        "  except:\n",
        "    print(f\"No data for {i}.csv\")"
      ],
      "metadata": {
        "colab": {
          "base_uri": "https://localhost:8080/"
        },
        "id": "rEIflr6i15nE",
        "outputId": "8f5f1684-e574-4e01-c47e-a3264e0e81ba"
      },
      "execution_count": 99,
      "outputs": [
        {
          "output_type": "stream",
          "name": "stdout",
          "text": [
            "No data for 2.csv\n",
            "No data for 3.csv\n",
            "No data for 4.csv\n",
            "No data for 5.csv\n",
            "No data for 6.csv\n",
            "No data for 7.csv\n",
            "No data for 8.csv\n",
            "No data for 9.csv\n",
            "No data for 10.csv\n",
            "No data for 11.csv\n",
            "No data for 12.csv\n",
            "No data for 13.csv\n",
            "No data for 14.csv\n",
            "No data for 15.csv\n"
          ]
        }
      ]
    },
    {
      "cell_type": "code",
      "source": [
        "import numpy as np\n",
        "from sklearn.model_selection import train_test_split\n",
        "\n",
        "datas = []\n",
        "targets = []\n",
        "\n",
        "for data in raw_datas:\n",
        "  x = data[ACCELERATION_DATA_TYPE + \" X\"].values\n",
        "  y = data[ACCELERATION_DATA_TYPE + \" Y\"].values\n",
        "  z = data[ACCELERATION_DATA_TYPE + \" Z\"].values\n",
        "  punch = data['Punch Index'].values\n",
        "\n",
        "  for i in range(len(data) - WINDOW_SIZE):\n",
        "    datas.append(np.array([\n",
        "        x[i:i+WINDOW_SIZE],\n",
        "        y[i:i+WINDOW_SIZE],\n",
        "        z[i:i+WINDOW_SIZE],\n",
        "    ]).T) # Transpose to get shape (WINDOW_SIZE, num_features)\n",
        "    targets.append(punch[i + WINDOW_SIZE])\n",
        "\n",
        "\n",
        "X = np.array(datas)\n",
        "y = np.array(targets)\n",
        "\n",
        "X_train, X_test, y_train, y_test = train_test_split(X, y, test_size=0.2, random_state=42)\n",
        "\n",
        "\n",
        "train_loader = torch.utils.data.DataLoader(\n",
        "    torch.utils.data.TensorDataset(torch.from_numpy(X_train), torch.from_numpy(y_train)),\n",
        "    batch_size=64,\n",
        "    shuffle=True\n",
        ")\n",
        "\n",
        "test_loader = torch.utils.data.DataLoader(\n",
        "    torch.utils.data.TensorDataset(torch.from_numpy(X_test), torch.from_numpy(y_test)),\n",
        "    batch_size=64,\n",
        "    shuffle=False\n",
        ")\n",
        "\n",
        "for data, target in train_loader:\n",
        "  print(data.shape, target.shape)\n",
        "  break"
      ],
      "metadata": {
        "colab": {
          "base_uri": "https://localhost:8080/"
        },
        "id": "TXEcExCA5osU",
        "outputId": "08aba0c1-3423-492f-8de0-48fc3b311084"
      },
      "execution_count": 100,
      "outputs": [
        {
          "output_type": "stream",
          "name": "stdout",
          "text": [
            "torch.Size([64, 20, 3]) torch.Size([64])\n"
          ]
        }
      ]
    },
    {
      "cell_type": "markdown",
      "source": [
        "# 3. Compiling Model"
      ],
      "metadata": {
        "id": "rWprTFS86dQh"
      }
    },
    {
      "cell_type": "code",
      "source": [
        "from torchsummary import summary\n",
        "\n",
        "print(f\"Using Device : {device}\")\n",
        "\n",
        "model = PUNCH_ML().to(device)\n",
        "criterion = nn.CrossEntropyLoss()\n",
        "optimizer = torch.optim.Adam(model.parameters(), lr=0.001)\n",
        "\n",
        "summary(model, (WINDOW_SIZE, INPUT_SIZE))\n"
      ],
      "metadata": {
        "colab": {
          "base_uri": "https://localhost:8080/"
        },
        "id": "7A68I92w6fE-",
        "outputId": "e3fc7d44-7399-448d-caad-d50846455ce1"
      },
      "execution_count": 101,
      "outputs": [
        {
          "output_type": "stream",
          "name": "stdout",
          "text": [
            "Using Device : cuda\n",
            "----------------------------------------------------------------\n",
            "        Layer (type)               Output Shape         Param #\n",
            "================================================================\n",
            "              Tanh-1                [-1, 20, 3]               0\n",
            "               GRU-2  [[-1, 20, 10], [-1, 20, 10]]               0\n",
            "            Linear-3                    [-1, 5]              55\n",
            "================================================================\n",
            "Total params: 55\n",
            "Trainable params: 55\n",
            "Non-trainable params: 0\n",
            "----------------------------------------------------------------\n",
            "Input size (MB): 0.00\n",
            "Forward/backward pass size (MB): 0.30\n",
            "Params size (MB): 0.00\n",
            "Estimated Total Size (MB): 0.31\n",
            "----------------------------------------------------------------\n"
          ]
        }
      ]
    },
    {
      "cell_type": "markdown",
      "source": [
        "# 4. Training Model"
      ],
      "metadata": {
        "id": "SAo420NgExxP"
      }
    },
    {
      "cell_type": "code",
      "source": [
        "import torch\n",
        "\n",
        "best_loss = float('inf')\n",
        "epochs = 100\n",
        "patience = 5\n",
        "counter = 0\n",
        "\n",
        "for epoch in range(epochs):\n",
        "  model.train()\n",
        "  train_loss = 0.0\n",
        "\n",
        "  for data, target in train_loader:\n",
        "      data = data.permute(1, 0, 2).to(device, dtype=torch.float32)\n",
        "      target = target.to(device)\n",
        "      output = model(data)\n",
        "      loss = criterion(output, target)\n",
        "\n",
        "      optimizer.zero_grad()\n",
        "      loss.backward()\n",
        "      optimizer.step()\n",
        "\n",
        "      train_loss += loss.item()\n",
        "\n",
        "  train_loss /= len(train_loader)\n",
        "\n",
        "  model.eval()\n",
        "  val_loss = 0.0\n",
        "  with torch.no_grad():\n",
        "      for data, target in test_loader:\n",
        "          data = data.permute(1, 0, 2).to(device, dtype=torch.float32)\n",
        "          target = target.to(device)\n",
        "\n",
        "          output = model(data)\n",
        "          loss = criterion(output, target)\n",
        "          val_loss += loss.item()\n",
        "\n",
        "  val_loss /= len(test_loader)\n",
        "\n",
        "  print(f\"Epoch {epoch + 1}/{epochs}, Train Loss: {train_loss:.4f}, Validation Loss: {val_loss:.4f}\")\n",
        "\n",
        "  if val_loss < best_loss:\n",
        "      best_loss = val_loss\n",
        "      counter = 0\n",
        "      # torch.save(model.state_dict(), 'best_model.pth')  # Optional\n",
        "  else:\n",
        "      counter += 1\n",
        "      if counter >= patience:\n",
        "          print(\"Early stopping\")\n",
        "          break\n"
      ],
      "metadata": {
        "colab": {
          "base_uri": "https://localhost:8080/"
        },
        "id": "OdaJnons8HvQ",
        "outputId": "b46a1242-9159-4288-c44f-84a30b91dfe8"
      },
      "execution_count": 102,
      "outputs": [
        {
          "output_type": "stream",
          "name": "stdout",
          "text": [
            "Epoch 1/100, Train Loss: 1.8546, Validation Loss: 1.8027\n",
            "Epoch 2/100, Train Loss: 1.7569, Validation Loss: 1.7050\n",
            "Epoch 3/100, Train Loss: 1.6604, Validation Loss: 1.5956\n",
            "Epoch 4/100, Train Loss: 1.5369, Validation Loss: 1.4571\n",
            "Epoch 5/100, Train Loss: 1.3775, Validation Loss: 1.2685\n",
            "Epoch 6/100, Train Loss: 1.1644, Validation Loss: 1.0156\n",
            "Epoch 7/100, Train Loss: 0.8949, Validation Loss: 0.7211\n",
            "Epoch 8/100, Train Loss: 0.6178, Validation Loss: 0.4674\n",
            "Epoch 9/100, Train Loss: 0.4163, Validation Loss: 0.3155\n",
            "Epoch 10/100, Train Loss: 0.3077, Validation Loss: 0.2382\n",
            "Epoch 11/100, Train Loss: 0.2526, Validation Loss: 0.1967\n",
            "Epoch 12/100, Train Loss: 0.2224, Validation Loss: 0.1713\n",
            "Epoch 13/100, Train Loss: 0.2027, Validation Loss: 0.1544\n",
            "Epoch 14/100, Train Loss: 0.1893, Validation Loss: 0.1420\n",
            "Epoch 15/100, Train Loss: 0.1793, Validation Loss: 0.1325\n",
            "Epoch 16/100, Train Loss: 0.1715, Validation Loss: 0.1249\n",
            "Epoch 17/100, Train Loss: 0.1652, Validation Loss: 0.1186\n",
            "Epoch 18/100, Train Loss: 0.1600, Validation Loss: 0.1134\n",
            "Epoch 19/100, Train Loss: 0.1556, Validation Loss: 0.1090\n",
            "Epoch 20/100, Train Loss: 0.2018, Validation Loss: 0.1052\n",
            "Epoch 21/100, Train Loss: 0.1487, Validation Loss: 0.1025\n",
            "Epoch 22/100, Train Loss: 0.1460, Validation Loss: 0.0996\n",
            "Epoch 23/100, Train Loss: 0.1434, Validation Loss: 0.0971\n",
            "Epoch 24/100, Train Loss: 0.1411, Validation Loss: 0.0949\n",
            "Epoch 25/100, Train Loss: 0.1391, Validation Loss: 0.0928\n",
            "Epoch 26/100, Train Loss: 0.1372, Validation Loss: 0.0909\n",
            "Epoch 27/100, Train Loss: 0.1355, Validation Loss: 0.0891\n",
            "Epoch 28/100, Train Loss: 0.1340, Validation Loss: 0.0876\n",
            "Epoch 29/100, Train Loss: 0.1326, Validation Loss: 0.0863\n",
            "Epoch 30/100, Train Loss: 0.1821, Validation Loss: 0.0850\n",
            "Epoch 31/100, Train Loss: 0.1302, Validation Loss: 0.0843\n",
            "Epoch 32/100, Train Loss: 0.1291, Validation Loss: 0.0834\n",
            "Epoch 33/100, Train Loss: 0.1783, Validation Loss: 0.0823\n",
            "Epoch 34/100, Train Loss: 0.1273, Validation Loss: 0.0819\n",
            "Epoch 35/100, Train Loss: 0.1263, Validation Loss: 0.0811\n",
            "Epoch 36/100, Train Loss: 0.1254, Validation Loss: 0.0802\n",
            "Epoch 37/100, Train Loss: 0.1745, Validation Loss: 0.0794\n",
            "Epoch 38/100, Train Loss: 0.1239, Validation Loss: 0.0790\n",
            "Epoch 39/100, Train Loss: 0.1233, Validation Loss: 0.0786\n",
            "Epoch 40/100, Train Loss: 0.1226, Validation Loss: 0.0779\n",
            "Epoch 41/100, Train Loss: 0.1220, Validation Loss: 0.0772\n",
            "Epoch 42/100, Train Loss: 0.1708, Validation Loss: 0.0766\n",
            "Epoch 43/100, Train Loss: 0.1210, Validation Loss: 0.0765\n",
            "Epoch 44/100, Train Loss: 0.1204, Validation Loss: 0.0760\n",
            "Epoch 45/100, Train Loss: 0.1199, Validation Loss: 0.0755\n",
            "Epoch 46/100, Train Loss: 0.1194, Validation Loss: 0.0749\n",
            "Epoch 47/100, Train Loss: 0.1189, Validation Loss: 0.0744\n",
            "Epoch 48/100, Train Loss: 0.1185, Validation Loss: 0.0738\n",
            "Epoch 49/100, Train Loss: 0.1181, Validation Loss: 0.0734\n",
            "Epoch 50/100, Train Loss: 0.1671, Validation Loss: 0.0731\n",
            "Epoch 51/100, Train Loss: 0.1173, Validation Loss: 0.0730\n",
            "Epoch 52/100, Train Loss: 0.1171, Validation Loss: 0.0729\n",
            "Epoch 53/100, Train Loss: 0.1168, Validation Loss: 0.0724\n",
            "Epoch 54/100, Train Loss: 0.1164, Validation Loss: 0.0721\n",
            "Epoch 55/100, Train Loss: 0.1161, Validation Loss: 0.0717\n",
            "Epoch 56/100, Train Loss: 0.1158, Validation Loss: 0.0713\n",
            "Epoch 57/100, Train Loss: 0.1155, Validation Loss: 0.0711\n",
            "Epoch 58/100, Train Loss: 0.1152, Validation Loss: 0.0707\n",
            "Epoch 59/100, Train Loss: 0.1150, Validation Loss: 0.0703\n",
            "Epoch 60/100, Train Loss: 0.1148, Validation Loss: 0.0701\n",
            "Epoch 61/100, Train Loss: 0.2135, Validation Loss: 0.0699\n",
            "Epoch 62/100, Train Loss: 0.1144, Validation Loss: 0.0708\n",
            "Epoch 63/100, Train Loss: 0.1142, Validation Loss: 0.0707\n",
            "Epoch 64/100, Train Loss: 0.1140, Validation Loss: 0.0706\n",
            "Epoch 65/100, Train Loss: 0.1138, Validation Loss: 0.0703\n",
            "Epoch 66/100, Train Loss: 0.1136, Validation Loss: 0.0700\n",
            "Early stopping\n"
          ]
        }
      ]
    },
    {
      "cell_type": "markdown",
      "source": [
        "# 5. Evaluating Model"
      ],
      "metadata": {
        "id": "qF4MCjZXE1Hz"
      }
    },
    {
      "cell_type": "code",
      "source": [
        "model.eval()\n",
        "\n",
        "test_loss, correct = .0, 0\n",
        "\n",
        "with torch.no_grad():\n",
        "  for data, target in test_loader:\n",
        "    data, target = data.permute(1, 0, 2).to(device, dtype = torch.float32), target.to(device)\n",
        "    output = model(data)\n",
        "    test_loss += criterion(output, target).item()\n",
        "    correct += (output.argmax(1) == target).sum().item()\n",
        "\n",
        "print('Test Loss: {:.6f}'.format(test_loss / len(test_loader)))\n",
        "print('Accuracy: {:.3f}%'.format(100. * correct / len(test_loader.dataset)))\n"
      ],
      "metadata": {
        "colab": {
          "base_uri": "https://localhost:8080/"
        },
        "id": "HJJSERXCCNxz",
        "outputId": "ffa701bd-0ab1-47bb-ba53-885a4092a556"
      },
      "execution_count": 103,
      "outputs": [
        {
          "output_type": "stream",
          "name": "stdout",
          "text": [
            "Test Loss: 0.069987\n",
            "Accuracy: 98.630%\n"
          ]
        }
      ]
    },
    {
      "cell_type": "code",
      "source": [
        "model(data.to(device, dtype = torch.float32)[0][0].unsqueeze(0).unsqueeze(1))"
      ],
      "metadata": {
        "colab": {
          "base_uri": "https://localhost:8080/"
        },
        "id": "Z7eD9HlmCQdq",
        "outputId": "294a3c75-aaab-4012-e901-43e461418658"
      },
      "execution_count": 104,
      "outputs": [
        {
          "output_type": "execute_result",
          "data": {
            "text/plain": [
              "tensor([[ 0.5986, -0.3289, -0.4083, -0.4086, -0.6756]], device='cuda:0',\n",
              "       grad_fn=<AddmmBackward0>)"
            ]
          },
          "metadata": {},
          "execution_count": 104
        }
      ]
    },
    {
      "cell_type": "markdown",
      "source": [
        "# 6. Downloading Model"
      ],
      "metadata": {
        "id": "LnzB8KF0E3e-"
      }
    },
    {
      "cell_type": "code",
      "source": [
        "# result = torch.jit.trace(model, data.permute(1, 0, 2).to(device, dtype = torch.float32))\n",
        "\n",
        "# result.save(f\"GRU_{INPUT_SIZE}I_{HIDDEN_SIZE}H_{NUM_LAYERS}L_{WINDOW_SIZE}W.pt\")"
      ],
      "metadata": {
        "id": "fgf9guCpE5U0"
      },
      "execution_count": 105,
      "outputs": []
    },
    {
      "cell_type": "code",
      "metadata": {
        "colab": {
          "base_uri": "https://localhost:8080/"
        },
        "id": "52a332de",
        "outputId": "2c346429-267d-485f-f30e-734fa3c7445d"
      },
      "source": [
        "!pip install onnx"
      ],
      "execution_count": 106,
      "outputs": [
        {
          "output_type": "stream",
          "name": "stdout",
          "text": [
            "Requirement already satisfied: onnx in /usr/local/lib/python3.11/dist-packages (1.18.0)\n",
            "Requirement already satisfied: numpy>=1.22 in /usr/local/lib/python3.11/dist-packages (from onnx) (2.0.2)\n",
            "Requirement already satisfied: protobuf>=4.25.1 in /usr/local/lib/python3.11/dist-packages (from onnx) (5.29.5)\n",
            "Requirement already satisfied: typing_extensions>=4.7.1 in /usr/local/lib/python3.11/dist-packages (from onnx) (4.14.1)\n"
          ]
        }
      ]
    },
    {
      "cell_type": "code",
      "source": [
        "import torch.onnx\n",
        "\n",
        "torch.onnx.export(\n",
        "    model,\n",
        "    data.permute(1, 0, 2).to(device, dtype=torch.float32),\n",
        "    f\"GRU_{INPUT_SIZE}I_{HIDDEN_SIZE}H_{NUM_LAYERS}L_{WINDOW_SIZE}W.onnx\",\n",
        "    input_names=['input'],\n",
        "    output_names=['output'],\n",
        "    dynamic_axes={\n",
        "        'input': {0: 'seq_len', 1: 'batch_size'},\n",
        "    },\n",
        "    opset_version=12\n",
        ")"
      ],
      "metadata": {
        "colab": {
          "base_uri": "https://localhost:8080/"
        },
        "id": "SjQIiATBTSe5",
        "outputId": "18629ea8-d917-420d-d5da-af24e27158cd"
      },
      "execution_count": 107,
      "outputs": [
        {
          "output_type": "stream",
          "name": "stderr",
          "text": [
            "/usr/local/lib/python3.11/dist-packages/torch/onnx/symbolic_opset9.py:4277: UserWarning: Exporting a model to ONNX with a batch_size other than 1, with a variable length with GRU can cause an error when running the ONNX model with a different batch size. Make sure to save the model with a batch size of 1, or define the initial states (h0/c0) as inputs of the model. \n",
            "  warnings.warn(\n"
          ]
        }
      ]
    }
  ]
}
