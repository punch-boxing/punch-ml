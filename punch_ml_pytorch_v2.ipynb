{
  "nbformat": 4,
  "nbformat_minor": 0,
  "metadata": {
    "colab": {
      "provenance": [],
      "authorship_tag": "ABX9TyNfwlr5IfmuIIdKOn+w9h5b",
      "include_colab_link": true
    },
    "kernelspec": {
      "name": "python3",
      "display_name": "Python 3"
    },
    "language_info": {
      "name": "python"
    }
  },
  "cells": [
    {
      "cell_type": "markdown",
      "metadata": {
        "id": "view-in-github",
        "colab_type": "text"
      },
      "source": [
        "<a href=\"https://colab.research.google.com/github/punch-boxing/punch-ml/blob/main/punch_ml_pytorch_v2.ipynb\" target=\"_parent\"><img src=\"https://colab.research.google.com/assets/colab-badge.svg\" alt=\"Open In Colab\"/></a>"
      ]
    },
    {
      "cell_type": "markdown",
      "source": [
        "# 0. Settings"
      ],
      "metadata": {
        "id": "k8HlMICx4Oeu"
      }
    },
    {
      "cell_type": "code",
      "source": [
        "# default values\n",
        "PUNCH_TYPES = {\n",
        "    \"None\": 0,\n",
        "    \"Straight\": 1,\n",
        "    \"Hook\": 2,\n",
        "    \"Body\": 3,\n",
        "    \"Uppercut\": 4,\n",
        "}\n",
        "\n",
        "# values for model training\n",
        "INPUT_SIZE = 3\n",
        "HIDDEN_SIZE = 10\n",
        "NUM_LAYERS = 1\n",
        "WINDOW_SIZE = 20\n",
        "\n",
        "\n",
        "# values for preparing data\n",
        "MAX_DATA_NUMBER = 20 # file counts\n",
        "ACCELERATION_DATA_TYPE = \"Raw Acceleration\" # \"Acceleration\" for \"Raw Acceleration\""
      ],
      "metadata": {
        "id": "3bxqJtAS4OGz"
      },
      "execution_count": null,
      "outputs": []
    },
    {
      "cell_type": "markdown",
      "source": [
        "# 1. Preparing Model"
      ],
      "metadata": {
        "id": "5X_mopN-3szE"
      }
    },
    {
      "cell_type": "code",
      "execution_count": null,
      "metadata": {
        "id": "-WgtG6WL0dsv"
      },
      "outputs": [],
      "source": [
        "import torch\n",
        "import torch.nn as nn\n",
        "import torch.nn.functional as F\n",
        "\n",
        "device = torch.device('cuda' if torch.cuda.is_available() else 'cpu')\n",
        "\n",
        "class PunchGRUModel(nn.Module):\n",
        "  def __init__(self, input_size=INPUT_SIZE, hidden_size=HIDDEN_SIZE, num_layers=NUM_LAYERS, num_classes=len(PUNCH_TYPES)):\n",
        "    super(PunchGRUModel, self).__init__()\n",
        "    self.hidden_size = hidden_size\n",
        "    self.num_layers = num_layers\n",
        "    self.input_size = input_size\n",
        "\n",
        "    # a layer that puts the accelerometer value into tanh function, this layer makes the accelerometer value from -1 ~ 1\n",
        "    self.tanh = nn.Tanh()\n",
        "    self.gru = nn.GRU(input_size, hidden_size, num_layers, batch_first=True)\n",
        "    self.fc = nn.Linear(hidden_size, num_classes)\n",
        "\n",
        "  def forward(self, x, h=None):\n",
        "    # x: (batch, seq_len, input_size)\n",
        "    if self.input_size == 3:\n",
        "      x = self.tanh(x)\n",
        "    elif self.input_size == 5:\n",
        "      x[:3] = self.tanh(x[:3])\n",
        "    else:\n",
        "      raise ValueError(\"input_size must be 3 or 5\")\n",
        "    out, h = self.gru(x, h)\n",
        "    logits = self.fc(out)\n",
        "    return logits, h\n"
      ]
    },
    {
      "cell_type": "markdown",
      "source": [
        "# 2. Preparing Data"
      ],
      "metadata": {
        "id": "6c4aMwT63val"
      }
    },
    {
      "cell_type": "code",
      "source": [
        "import pandas as pd\n",
        "\n",
        "raw_datas = []\n",
        "\n",
        "# Columns\n",
        "# Index,Time,Raw Acceleration X,Raw Acceleration Y,Raw Acceleration Z,Acceleration X,Acceleration Y,Acceleration Z,Angular Velocity X,Angular Velocity Y,Angular Velocity Z,Orientation X,Orientation Y,Orientation Z,Punch Type\n",
        "\n",
        "for i in range(1, MAX_DATA_NUMBER + 1):\n",
        "  try:\n",
        "    data = pd.read_csv(f\"{i}.csv\")\n",
        "    data[\"Punch Index\"] = data[\"Punch Type\"].map(PUNCH_TYPES).fillna(0).astype(int)\n",
        "    raw_datas.append(data)\n",
        "  except:\n",
        "    print(f\"No data for {i}.csv\")"
      ],
      "metadata": {
        "colab": {
          "base_uri": "https://localhost:8080/"
        },
        "id": "rEIflr6i15nE",
        "outputId": "5548ae3c-c1cc-4ce0-8856-889d3018e379"
      },
      "execution_count": null,
      "outputs": [
        {
          "output_type": "stream",
          "name": "stdout",
          "text": [
            "No data for 15.csv\n",
            "No data for 16.csv\n",
            "No data for 17.csv\n",
            "No data for 18.csv\n",
            "No data for 19.csv\n",
            "No data for 20.csv\n"
          ]
        }
      ]
    },
    {
      "cell_type": "code",
      "source": [
        "import numpy as np\n",
        "from sklearn.model_selection import train_test_split\n",
        "\n",
        "if INPUT_SIZE == 3:\n",
        "  datas = []\n",
        "  targets = []\n",
        "\n",
        "  for data in raw_datas:\n",
        "    x = data[ACCELERATION_DATA_TYPE + \" X\"].values\n",
        "    y = data[ACCELERATION_DATA_TYPE + \" Y\"].values\n",
        "    z = data[ACCELERATION_DATA_TYPE + \" Z\"].values\n",
        "    punch = data['Punch Index'].values\n",
        "\n",
        "    for i in range(WINDOW_SIZE, len(data) + 1):\n",
        "      datas.append(np.array([\n",
        "          x[i-WINDOW_SIZE:i],\n",
        "          y[i-WINDOW_SIZE:i],\n",
        "          z[i-WINDOW_SIZE:i],\n",
        "      ]).T)\n",
        "      targets.append(punch[i-WINDOW_SIZE:i])\n",
        "\n",
        "  X = np.array(datas, dtype=np.float32)\n",
        "  y = np.array(targets)\n",
        "\n",
        "  X_train, X_test, y_train, y_test = train_test_split(X, y, test_size=0.2, random_state=42)\n",
        "\n",
        "\n",
        "  train_loader = torch.utils.data.DataLoader(\n",
        "      torch.utils.data.TensorDataset(torch.from_numpy(X_train), torch.from_numpy(y_train)),\n",
        "      batch_size=64,\n",
        "      shuffle=True\n",
        "  )\n",
        "\n",
        "  test_loader = torch.utils.data.DataLoader(\n",
        "      torch.utils.data.TensorDataset(torch.from_numpy(X_test), torch.from_numpy(y_test)),\n",
        "      batch_size=64,\n",
        "      shuffle=False\n",
        "  )\n",
        "\n",
        "  for data, target in train_loader:\n",
        "    print(data.shape, target.shape)\n",
        "    break\n",
        "\n",
        "elif INPUT_SIZE == 5:\n",
        "  datas = []\n",
        "  targets = []\n",
        "\n",
        "  for data in raw_datas:\n",
        "    x = data[ACCELERATION_DATA_TYPE + \" X\"].values\n",
        "    y = data[ACCELERATION_DATA_TYPE + \" Y\"].values\n",
        "    z = data[ACCELERATION_DATA_TYPE + \" Z\"].values\n",
        "    ox = data[\"Orientation X\"].values\n",
        "    oz = data[\"Orientation Z\"].values\n",
        "    punch = data['Punch Index'].values\n",
        "\n",
        "    for i in range(WINDOW_SIZE, len(data) + 1):\n",
        "      datas.append(np.array([\n",
        "          x[i-WINDOW_SIZE:i],\n",
        "          y[i-WINDOW_SIZE:i],\n",
        "          z[i-WINDOW_SIZE:i],\n",
        "          ox[i-WINDOW_SIZE:i],\n",
        "          oz[i-WINDOW_SIZE:i],\n",
        "      ]).T)\n",
        "      targets.append(punch[i-WINDOW_SIZE:i])\n",
        "\n",
        "  X = np.array(datas, dtype=np.float32)\n",
        "  y = np.array(targets)\n",
        "\n",
        "  X_train, X_test, y_train, y_test = train_test_split(X, y, test_size=0.2, random_state=42)\n",
        "\n",
        "\n",
        "  train_loader = torch.utils.data.DataLoader(\n",
        "      torch.utils.data.TensorDataset(torch.from_numpy(X_train), torch.from_numpy(y_train)),\n",
        "      batch_size=64,\n",
        "      shuffle=True\n",
        "  )\n",
        "\n",
        "  test_loader = torch.utils.data.DataLoader(\n",
        "      torch.utils.data.TensorDataset(torch.from_numpy(X_test), torch.from_numpy(y_test)),\n",
        "      batch_size=64,\n",
        "      shuffle=False\n",
        "  )\n",
        "\n",
        "  for data, target in train_loader:\n",
        "    print(data.shape, target.shape)\n",
        "    break\n",
        "\n",
        "print(X_train.shape, y_train.shape)\n",
        "print(X_test.shape, y_test.shape)"
      ],
      "metadata": {
        "colab": {
          "base_uri": "https://localhost:8080/"
        },
        "id": "TXEcExCA5osU",
        "outputId": "2c67e359-3ea9-4536-f4d8-0d4f14845a39"
      },
      "execution_count": null,
      "outputs": [
        {
          "output_type": "stream",
          "name": "stdout",
          "text": [
            "torch.Size([64, 20, 3]) torch.Size([64, 20])\n",
            "(8850, 20, 3) (8850, 20)\n",
            "(2213, 20, 3) (2213, 20)\n"
          ]
        }
      ]
    },
    {
      "cell_type": "markdown",
      "source": [
        "# 3. Compiling Model"
      ],
      "metadata": {
        "id": "rWprTFS86dQh"
      }
    },
    {
      "cell_type": "code",
      "source": [
        "def summary_custom(model):\n",
        "    print(f\"{'Layer':<40} {'Shape':<30} {'Param #':>10}\")\n",
        "    print(\"=\" * 82)\n",
        "\n",
        "    total_params = 0\n",
        "    trainable_params = 0\n",
        "\n",
        "    for name, param in model.named_parameters():\n",
        "        param_shape = tuple(param.shape)\n",
        "        param_count = param.numel()\n",
        "        total_params += param_count\n",
        "        if param.requires_grad:\n",
        "            trainable_params += param_count\n",
        "\n",
        "        print(f\"{name:<40} {str(param_shape):<30} {param_count:>10}\")\n",
        "\n",
        "    print(\"=\" * 82)\n",
        "    print(f\"{'Total params:':<40} {total_params:>30}\")\n",
        "    print(f\"{'Trainable params:':<40} {trainable_params:>30}\")\n",
        "    print(f\"{'Non-trainable params:':<40} {total_params - trainable_params:>30}\")\n",
        "\n",
        "print(f\"Using Device : {device}\")\n",
        "\n",
        "# model = PUNCH_ML().to(device)\n",
        "model = PunchGRUModel().to(device)\n",
        "criterion = nn.CrossEntropyLoss()\n",
        "optimizer = torch.optim.Adam(model.parameters(), lr=0.001)\n",
        "\n",
        "summary_custom(model)\n"
      ],
      "metadata": {
        "colab": {
          "base_uri": "https://localhost:8080/"
        },
        "id": "7A68I92w6fE-",
        "outputId": "8e43efe5-b4ab-4820-8a8e-f68c37170929"
      },
      "execution_count": null,
      "outputs": [
        {
          "output_type": "stream",
          "name": "stdout",
          "text": [
            "Using Device : cpu\n",
            "Layer                                    Shape                             Param #\n",
            "==================================================================================\n",
            "gru.weight_ih_l0                         (30, 3)                                90\n",
            "gru.weight_hh_l0                         (30, 10)                              300\n",
            "gru.bias_ih_l0                           (30,)                                  30\n",
            "gru.bias_hh_l0                           (30,)                                  30\n",
            "fc.weight                                (5, 10)                                50\n",
            "fc.bias                                  (5,)                                    5\n",
            "==================================================================================\n",
            "Total params:                                                       505\n",
            "Trainable params:                                                   505\n",
            "Non-trainable params:                                                 0\n"
          ]
        }
      ]
    },
    {
      "cell_type": "markdown",
      "source": [
        "# 4. Training Model"
      ],
      "metadata": {
        "id": "SAo420NgExxP"
      }
    },
    {
      "cell_type": "code",
      "source": [
        "best_loss = float('inf')\n",
        "epochs = 500\n",
        "patience = 5\n",
        "counter = 0\n",
        "\n",
        "train_loss = []\n",
        "train_accuracy = []\n",
        "val_loss = []\n",
        "val_accuracy = []\n",
        "\n",
        "for epoch in range(epochs):\n",
        "    model.train()\n",
        "\n",
        "    total_train_loss = 0.0\n",
        "    total_train_correct = 0\n",
        "    total_train_samples = 0\n",
        "\n",
        "    for data, target in train_loader:\n",
        "        data = data.to(device, dtype=torch.float32)\n",
        "        target = target.to(device)\n",
        "\n",
        "        optimizer.zero_grad()\n",
        "        outputs, _ = model(data)\n",
        "\n",
        "        # reshaping results\n",
        "        outputs = outputs.view(-1, outputs.size(-1))\n",
        "        target = target.view(-1)\n",
        "\n",
        "        # update parameters\n",
        "        loss = criterion(outputs, target)\n",
        "        loss.backward()\n",
        "        optimizer.step()\n",
        "\n",
        "        total_train_loss += loss.item()\n",
        "        _, predicted = torch.max(outputs, 1)\n",
        "        total_train_correct += (predicted == target).sum().item()\n",
        "        total_train_samples += target.size(0)\n",
        "\n",
        "    train_loss.append(total_train_loss / len(train_loader))\n",
        "    train_accuracy.append(total_train_correct / total_train_samples)\n",
        "\n",
        "    total_val_loss = 0.0\n",
        "    total_val_correct = 0\n",
        "    total_val_samples = 0\n",
        "\n",
        "\n",
        "\n",
        "\n",
        "    model.eval()\n",
        "    for data, target in test_loader:\n",
        "        data = data.to(device, dtype=torch.float32)\n",
        "        target = target.to(device)\n",
        "\n",
        "        outputs, _ = model(data)\n",
        "        outputs = outputs.view(-1, outputs.size(-1))\n",
        "        target = target.view(-1)\n",
        "\n",
        "        loss = criterion(outputs, target)\n",
        "\n",
        "        total_val_loss += loss.item()\n",
        "        _, predicted = torch.max(outputs, 1)\n",
        "        total_val_correct += (predicted == target).sum().item()\n",
        "        total_val_samples += target.size(0)\n",
        "\n",
        "    val_loss.append(total_val_loss / len(test_loader))\n",
        "    val_accuracy.append(total_val_correct / total_val_samples)\n",
        "\n",
        "\n",
        "    if total_val_loss < best_loss:\n",
        "        best_loss = total_val_loss\n",
        "        counter = 0\n",
        "    else:\n",
        "        counter += 1\n",
        "        if counter >= patience:\n",
        "            print(\"Early stopping triggered.\")\n",
        "            break\n",
        "\n",
        "    print(f\"Epoch {epoch+1:3d}/{epochs} | Train Loss: {train_loss[-1]:.4f} | Train Accuracy: {train_accuracy[-1]*100:.2f}% | Validation Loss: {val_loss[-1]:.4f} | Validataion Accuracy: {val_accuracy[-1]*100:.2f}%\")\n"
      ],
      "metadata": {
        "colab": {
          "base_uri": "https://localhost:8080/"
        },
        "id": "r0EJz2eaxQjT",
        "outputId": "9e3a51e4-27cd-49df-9ecc-19b88abbfb6c"
      },
      "execution_count": null,
      "outputs": [
        {
          "output_type": "stream",
          "name": "stdout",
          "text": [
            "Epoch   1/500 | Train Loss: 1.0404 | Train Accuracy: 72.99% | Validation Loss: 0.3422 | Validataion Accuracy: 96.36%\n",
            "Epoch   2/500 | Train Loss: 0.2680 | Train Accuracy: 96.45% | Validation Loss: 0.2353 | Validataion Accuracy: 96.48%\n",
            "Epoch   3/500 | Train Loss: 0.2216 | Train Accuracy: 96.50% | Validation Loss: 0.2118 | Validataion Accuracy: 96.48%\n",
            "Epoch   4/500 | Train Loss: 0.2017 | Train Accuracy: 96.48% | Validation Loss: 0.1918 | Validataion Accuracy: 96.45%\n",
            "Epoch   5/500 | Train Loss: 0.1812 | Train Accuracy: 96.43% | Validation Loss: 0.1722 | Validataion Accuracy: 96.44%\n",
            "Epoch   6/500 | Train Loss: 0.1656 | Train Accuracy: 96.44% | Validation Loss: 0.1592 | Validataion Accuracy: 96.45%\n",
            "Epoch   7/500 | Train Loss: 0.1547 | Train Accuracy: 96.45% | Validation Loss: 0.1504 | Validataion Accuracy: 96.45%\n",
            "Epoch   8/500 | Train Loss: 0.1473 | Train Accuracy: 96.46% | Validation Loss: 0.1437 | Validataion Accuracy: 96.45%\n",
            "Epoch   9/500 | Train Loss: 0.1412 | Train Accuracy: 96.47% | Validation Loss: 0.1376 | Validataion Accuracy: 96.46%\n",
            "Epoch  10/500 | Train Loss: 0.1350 | Train Accuracy: 96.49% | Validation Loss: 0.1311 | Validataion Accuracy: 96.48%\n",
            "Epoch  11/500 | Train Loss: 0.1288 | Train Accuracy: 96.50% | Validation Loss: 0.1244 | Validataion Accuracy: 96.48%\n",
            "Epoch  12/500 | Train Loss: 0.1225 | Train Accuracy: 96.50% | Validation Loss: 0.1186 | Validataion Accuracy: 96.48%\n",
            "Epoch  13/500 | Train Loss: 0.1176 | Train Accuracy: 96.50% | Validation Loss: 0.1143 | Validataion Accuracy: 96.48%\n",
            "Epoch  14/500 | Train Loss: 0.1138 | Train Accuracy: 96.50% | Validation Loss: 0.1111 | Validataion Accuracy: 96.48%\n",
            "Epoch  15/500 | Train Loss: 0.1109 | Train Accuracy: 96.49% | Validation Loss: 0.1084 | Validataion Accuracy: 96.49%\n",
            "Epoch  16/500 | Train Loss: 0.1082 | Train Accuracy: 96.53% | Validation Loss: 0.1061 | Validataion Accuracy: 96.51%\n",
            "Epoch  17/500 | Train Loss: 0.1059 | Train Accuracy: 96.55% | Validation Loss: 0.1040 | Validataion Accuracy: 96.54%\n",
            "Epoch  18/500 | Train Loss: 0.1041 | Train Accuracy: 96.58% | Validation Loss: 0.1022 | Validataion Accuracy: 96.53%\n",
            "Epoch  19/500 | Train Loss: 0.1024 | Train Accuracy: 96.57% | Validation Loss: 0.1007 | Validataion Accuracy: 96.51%\n",
            "Epoch  20/500 | Train Loss: 0.1008 | Train Accuracy: 96.55% | Validation Loss: 0.0993 | Validataion Accuracy: 96.48%\n",
            "Epoch  21/500 | Train Loss: 0.0991 | Train Accuracy: 96.54% | Validation Loss: 0.0980 | Validataion Accuracy: 96.52%\n",
            "Epoch  22/500 | Train Loss: 0.0981 | Train Accuracy: 96.57% | Validation Loss: 0.0968 | Validataion Accuracy: 96.52%\n",
            "Epoch  23/500 | Train Loss: 0.0967 | Train Accuracy: 96.58% | Validation Loss: 0.0958 | Validataion Accuracy: 96.52%\n",
            "Epoch  24/500 | Train Loss: 0.0958 | Train Accuracy: 96.61% | Validation Loss: 0.0948 | Validataion Accuracy: 96.50%\n",
            "Epoch  25/500 | Train Loss: 0.0944 | Train Accuracy: 96.60% | Validation Loss: 0.0939 | Validataion Accuracy: 96.51%\n",
            "Epoch  26/500 | Train Loss: 0.0938 | Train Accuracy: 96.62% | Validation Loss: 0.0930 | Validataion Accuracy: 96.57%\n",
            "Epoch  27/500 | Train Loss: 0.0927 | Train Accuracy: 96.64% | Validation Loss: 0.0922 | Validataion Accuracy: 96.57%\n",
            "Epoch  28/500 | Train Loss: 0.0921 | Train Accuracy: 96.66% | Validation Loss: 0.0915 | Validataion Accuracy: 96.55%\n",
            "Epoch  29/500 | Train Loss: 0.0914 | Train Accuracy: 96.66% | Validation Loss: 0.0908 | Validataion Accuracy: 96.60%\n",
            "Epoch  30/500 | Train Loss: 0.0905 | Train Accuracy: 96.68% | Validation Loss: 0.0901 | Validataion Accuracy: 96.60%\n",
            "Epoch  31/500 | Train Loss: 0.0898 | Train Accuracy: 96.67% | Validation Loss: 0.0895 | Validataion Accuracy: 96.60%\n",
            "Epoch  32/500 | Train Loss: 0.0893 | Train Accuracy: 96.65% | Validation Loss: 0.0889 | Validataion Accuracy: 96.63%\n",
            "Epoch  33/500 | Train Loss: 0.0887 | Train Accuracy: 96.67% | Validation Loss: 0.0884 | Validataion Accuracy: 96.62%\n",
            "Epoch  34/500 | Train Loss: 0.0881 | Train Accuracy: 96.67% | Validation Loss: 0.0879 | Validataion Accuracy: 96.61%\n",
            "Epoch  35/500 | Train Loss: 0.0876 | Train Accuracy: 96.67% | Validation Loss: 0.0874 | Validataion Accuracy: 96.62%\n",
            "Epoch  36/500 | Train Loss: 0.0871 | Train Accuracy: 96.66% | Validation Loss: 0.0869 | Validataion Accuracy: 96.61%\n",
            "Epoch  37/500 | Train Loss: 0.0865 | Train Accuracy: 96.69% | Validation Loss: 0.0865 | Validataion Accuracy: 96.64%\n",
            "Epoch  38/500 | Train Loss: 0.0860 | Train Accuracy: 96.69% | Validation Loss: 0.0860 | Validataion Accuracy: 96.62%\n",
            "Epoch  39/500 | Train Loss: 0.0855 | Train Accuracy: 96.70% | Validation Loss: 0.0856 | Validataion Accuracy: 96.63%\n",
            "Epoch  40/500 | Train Loss: 0.0853 | Train Accuracy: 96.71% | Validation Loss: 0.0851 | Validataion Accuracy: 96.63%\n",
            "Epoch  41/500 | Train Loss: 0.0847 | Train Accuracy: 96.72% | Validation Loss: 0.0847 | Validataion Accuracy: 96.61%\n",
            "Epoch  42/500 | Train Loss: 0.0844 | Train Accuracy: 96.72% | Validation Loss: 0.0843 | Validataion Accuracy: 96.70%\n",
            "Epoch  43/500 | Train Loss: 0.0837 | Train Accuracy: 96.71% | Validation Loss: 0.0838 | Validataion Accuracy: 96.66%\n",
            "Epoch  44/500 | Train Loss: 0.0834 | Train Accuracy: 96.74% | Validation Loss: 0.0834 | Validataion Accuracy: 96.67%\n",
            "Epoch  45/500 | Train Loss: 0.0830 | Train Accuracy: 96.74% | Validation Loss: 0.0830 | Validataion Accuracy: 96.65%\n",
            "Epoch  46/500 | Train Loss: 0.0826 | Train Accuracy: 96.76% | Validation Loss: 0.0826 | Validataion Accuracy: 96.66%\n",
            "Epoch  47/500 | Train Loss: 0.0823 | Train Accuracy: 96.74% | Validation Loss: 0.0824 | Validataion Accuracy: 96.65%\n",
            "Epoch  48/500 | Train Loss: 0.0819 | Train Accuracy: 96.74% | Validation Loss: 0.0820 | Validataion Accuracy: 96.71%\n",
            "Epoch  49/500 | Train Loss: 0.0815 | Train Accuracy: 96.76% | Validation Loss: 0.0817 | Validataion Accuracy: 96.69%\n",
            "Epoch  50/500 | Train Loss: 0.0811 | Train Accuracy: 96.75% | Validation Loss: 0.0814 | Validataion Accuracy: 96.65%\n",
            "Epoch  51/500 | Train Loss: 0.0807 | Train Accuracy: 96.74% | Validation Loss: 0.0810 | Validataion Accuracy: 96.63%\n",
            "Epoch  52/500 | Train Loss: 0.0803 | Train Accuracy: 96.75% | Validation Loss: 0.0805 | Validataion Accuracy: 96.69%\n",
            "Epoch  53/500 | Train Loss: 0.0798 | Train Accuracy: 96.77% | Validation Loss: 0.0801 | Validataion Accuracy: 96.69%\n",
            "Epoch  54/500 | Train Loss: 0.0794 | Train Accuracy: 96.76% | Validation Loss: 0.0799 | Validataion Accuracy: 96.72%\n",
            "Epoch  55/500 | Train Loss: 0.0789 | Train Accuracy: 96.78% | Validation Loss: 0.0795 | Validataion Accuracy: 96.74%\n",
            "Epoch  56/500 | Train Loss: 0.0786 | Train Accuracy: 96.80% | Validation Loss: 0.0792 | Validataion Accuracy: 96.70%\n",
            "Epoch  57/500 | Train Loss: 0.0784 | Train Accuracy: 96.82% | Validation Loss: 0.0790 | Validataion Accuracy: 96.74%\n",
            "Epoch  58/500 | Train Loss: 0.0779 | Train Accuracy: 96.81% | Validation Loss: 0.0786 | Validataion Accuracy: 96.77%\n",
            "Epoch  59/500 | Train Loss: 0.0777 | Train Accuracy: 96.81% | Validation Loss: 0.0784 | Validataion Accuracy: 96.77%\n",
            "Epoch  60/500 | Train Loss: 0.0772 | Train Accuracy: 96.85% | Validation Loss: 0.0781 | Validataion Accuracy: 96.75%\n",
            "Epoch  61/500 | Train Loss: 0.0770 | Train Accuracy: 96.85% | Validation Loss: 0.0778 | Validataion Accuracy: 96.71%\n",
            "Epoch  62/500 | Train Loss: 0.0766 | Train Accuracy: 96.85% | Validation Loss: 0.0776 | Validataion Accuracy: 96.76%\n",
            "Epoch  63/500 | Train Loss: 0.0764 | Train Accuracy: 96.87% | Validation Loss: 0.0774 | Validataion Accuracy: 96.79%\n",
            "Epoch  64/500 | Train Loss: 0.0762 | Train Accuracy: 96.88% | Validation Loss: 0.0772 | Validataion Accuracy: 96.79%\n",
            "Epoch  65/500 | Train Loss: 0.0759 | Train Accuracy: 96.89% | Validation Loss: 0.0770 | Validataion Accuracy: 96.79%\n",
            "Epoch  66/500 | Train Loss: 0.0756 | Train Accuracy: 96.90% | Validation Loss: 0.0768 | Validataion Accuracy: 96.81%\n",
            "Epoch  67/500 | Train Loss: 0.0754 | Train Accuracy: 96.91% | Validation Loss: 0.0766 | Validataion Accuracy: 96.78%\n",
            "Epoch  68/500 | Train Loss: 0.0751 | Train Accuracy: 96.91% | Validation Loss: 0.0763 | Validataion Accuracy: 96.78%\n",
            "Epoch  69/500 | Train Loss: 0.0749 | Train Accuracy: 96.92% | Validation Loss: 0.0762 | Validataion Accuracy: 96.79%\n",
            "Epoch  70/500 | Train Loss: 0.0747 | Train Accuracy: 96.92% | Validation Loss: 0.0759 | Validataion Accuracy: 96.80%\n",
            "Epoch  71/500 | Train Loss: 0.0746 | Train Accuracy: 96.93% | Validation Loss: 0.0759 | Validataion Accuracy: 96.77%\n",
            "Epoch  72/500 | Train Loss: 0.0743 | Train Accuracy: 96.94% | Validation Loss: 0.0756 | Validataion Accuracy: 96.84%\n",
            "Epoch  73/500 | Train Loss: 0.0741 | Train Accuracy: 96.96% | Validation Loss: 0.0755 | Validataion Accuracy: 96.91%\n",
            "Epoch  74/500 | Train Loss: 0.0739 | Train Accuracy: 96.95% | Validation Loss: 0.0753 | Validataion Accuracy: 96.85%\n",
            "Epoch  75/500 | Train Loss: 0.0736 | Train Accuracy: 96.95% | Validation Loss: 0.0751 | Validataion Accuracy: 96.81%\n",
            "Epoch  76/500 | Train Loss: 0.0735 | Train Accuracy: 96.97% | Validation Loss: 0.0750 | Validataion Accuracy: 96.85%\n",
            "Epoch  77/500 | Train Loss: 0.0734 | Train Accuracy: 96.98% | Validation Loss: 0.0747 | Validataion Accuracy: 96.83%\n",
            "Epoch  78/500 | Train Loss: 0.0730 | Train Accuracy: 96.99% | Validation Loss: 0.0746 | Validataion Accuracy: 96.81%\n",
            "Epoch  79/500 | Train Loss: 0.0729 | Train Accuracy: 96.99% | Validation Loss: 0.0746 | Validataion Accuracy: 96.82%\n",
            "Epoch  80/500 | Train Loss: 0.0729 | Train Accuracy: 97.00% | Validation Loss: 0.0743 | Validataion Accuracy: 96.85%\n",
            "Epoch  81/500 | Train Loss: 0.0725 | Train Accuracy: 97.03% | Validation Loss: 0.0741 | Validataion Accuracy: 96.89%\n",
            "Epoch  82/500 | Train Loss: 0.0724 | Train Accuracy: 97.03% | Validation Loss: 0.0737 | Validataion Accuracy: 96.88%\n",
            "Epoch  83/500 | Train Loss: 0.0722 | Train Accuracy: 97.04% | Validation Loss: 0.0737 | Validataion Accuracy: 96.86%\n",
            "Epoch  84/500 | Train Loss: 0.0719 | Train Accuracy: 97.05% | Validation Loss: 0.0735 | Validataion Accuracy: 96.90%\n",
            "Epoch  85/500 | Train Loss: 0.0716 | Train Accuracy: 97.06% | Validation Loss: 0.0733 | Validataion Accuracy: 96.92%\n",
            "Epoch  86/500 | Train Loss: 0.0717 | Train Accuracy: 97.09% | Validation Loss: 0.0730 | Validataion Accuracy: 96.95%\n",
            "Epoch  87/500 | Train Loss: 0.0713 | Train Accuracy: 97.11% | Validation Loss: 0.0728 | Validataion Accuracy: 96.94%\n",
            "Epoch  88/500 | Train Loss: 0.0710 | Train Accuracy: 97.13% | Validation Loss: 0.0726 | Validataion Accuracy: 96.94%\n",
            "Epoch  89/500 | Train Loss: 0.0709 | Train Accuracy: 97.15% | Validation Loss: 0.0724 | Validataion Accuracy: 96.95%\n",
            "Epoch  90/500 | Train Loss: 0.0707 | Train Accuracy: 97.14% | Validation Loss: 0.0722 | Validataion Accuracy: 96.96%\n",
            "Epoch  91/500 | Train Loss: 0.0703 | Train Accuracy: 97.15% | Validation Loss: 0.0721 | Validataion Accuracy: 96.98%\n",
            "Epoch  92/500 | Train Loss: 0.0701 | Train Accuracy: 97.15% | Validation Loss: 0.0718 | Validataion Accuracy: 96.95%\n",
            "Epoch  93/500 | Train Loss: 0.0701 | Train Accuracy: 97.15% | Validation Loss: 0.0716 | Validataion Accuracy: 96.97%\n",
            "Epoch  94/500 | Train Loss: 0.0698 | Train Accuracy: 97.17% | Validation Loss: 0.0715 | Validataion Accuracy: 96.96%\n",
            "Epoch  95/500 | Train Loss: 0.0695 | Train Accuracy: 97.16% | Validation Loss: 0.0711 | Validataion Accuracy: 96.98%\n",
            "Epoch  96/500 | Train Loss: 0.0695 | Train Accuracy: 97.18% | Validation Loss: 0.0708 | Validataion Accuracy: 96.95%\n",
            "Epoch  97/500 | Train Loss: 0.0692 | Train Accuracy: 97.17% | Validation Loss: 0.0708 | Validataion Accuracy: 96.96%\n",
            "Epoch  98/500 | Train Loss: 0.0692 | Train Accuracy: 97.19% | Validation Loss: 0.0707 | Validataion Accuracy: 97.00%\n",
            "Epoch  99/500 | Train Loss: 0.0688 | Train Accuracy: 97.20% | Validation Loss: 0.0703 | Validataion Accuracy: 97.00%\n",
            "Epoch 100/500 | Train Loss: 0.0686 | Train Accuracy: 97.20% | Validation Loss: 0.0701 | Validataion Accuracy: 96.98%\n",
            "Epoch 101/500 | Train Loss: 0.0684 | Train Accuracy: 97.20% | Validation Loss: 0.0700 | Validataion Accuracy: 96.98%\n",
            "Epoch 102/500 | Train Loss: 0.0682 | Train Accuracy: 97.20% | Validation Loss: 0.0698 | Validataion Accuracy: 97.04%\n",
            "Epoch 103/500 | Train Loss: 0.0681 | Train Accuracy: 97.21% | Validation Loss: 0.0695 | Validataion Accuracy: 97.06%\n",
            "Epoch 104/500 | Train Loss: 0.0680 | Train Accuracy: 97.23% | Validation Loss: 0.0694 | Validataion Accuracy: 96.99%\n",
            "Epoch 105/500 | Train Loss: 0.0678 | Train Accuracy: 97.23% | Validation Loss: 0.0693 | Validataion Accuracy: 97.01%\n",
            "Epoch 106/500 | Train Loss: 0.0675 | Train Accuracy: 97.23% | Validation Loss: 0.0691 | Validataion Accuracy: 97.02%\n",
            "Epoch 107/500 | Train Loss: 0.0675 | Train Accuracy: 97.23% | Validation Loss: 0.0690 | Validataion Accuracy: 97.04%\n",
            "Epoch 108/500 | Train Loss: 0.0674 | Train Accuracy: 97.23% | Validation Loss: 0.0688 | Validataion Accuracy: 97.03%\n",
            "Epoch 109/500 | Train Loss: 0.0670 | Train Accuracy: 97.24% | Validation Loss: 0.0688 | Validataion Accuracy: 97.01%\n",
            "Epoch 110/500 | Train Loss: 0.0670 | Train Accuracy: 97.24% | Validation Loss: 0.0685 | Validataion Accuracy: 97.05%\n",
            "Epoch 111/500 | Train Loss: 0.0667 | Train Accuracy: 97.24% | Validation Loss: 0.0685 | Validataion Accuracy: 97.09%\n",
            "Epoch 112/500 | Train Loss: 0.0667 | Train Accuracy: 97.26% | Validation Loss: 0.0683 | Validataion Accuracy: 97.10%\n",
            "Epoch 113/500 | Train Loss: 0.0665 | Train Accuracy: 97.27% | Validation Loss: 0.0683 | Validataion Accuracy: 97.09%\n",
            "Epoch 114/500 | Train Loss: 0.0664 | Train Accuracy: 97.26% | Validation Loss: 0.0681 | Validataion Accuracy: 97.09%\n",
            "Epoch 115/500 | Train Loss: 0.0663 | Train Accuracy: 97.27% | Validation Loss: 0.0679 | Validataion Accuracy: 97.10%\n",
            "Epoch 116/500 | Train Loss: 0.0662 | Train Accuracy: 97.30% | Validation Loss: 0.0679 | Validataion Accuracy: 97.13%\n",
            "Epoch 117/500 | Train Loss: 0.0661 | Train Accuracy: 97.28% | Validation Loss: 0.0677 | Validataion Accuracy: 97.11%\n",
            "Epoch 118/500 | Train Loss: 0.0659 | Train Accuracy: 97.28% | Validation Loss: 0.0676 | Validataion Accuracy: 97.08%\n",
            "Epoch 119/500 | Train Loss: 0.0659 | Train Accuracy: 97.29% | Validation Loss: 0.0676 | Validataion Accuracy: 97.11%\n",
            "Epoch 120/500 | Train Loss: 0.0658 | Train Accuracy: 97.30% | Validation Loss: 0.0675 | Validataion Accuracy: 97.10%\n",
            "Epoch 121/500 | Train Loss: 0.0656 | Train Accuracy: 97.31% | Validation Loss: 0.0674 | Validataion Accuracy: 97.11%\n",
            "Epoch 122/500 | Train Loss: 0.0655 | Train Accuracy: 97.32% | Validation Loss: 0.0672 | Validataion Accuracy: 97.12%\n",
            "Epoch 123/500 | Train Loss: 0.0653 | Train Accuracy: 97.31% | Validation Loss: 0.0671 | Validataion Accuracy: 97.13%\n",
            "Epoch 124/500 | Train Loss: 0.0654 | Train Accuracy: 97.33% | Validation Loss: 0.0671 | Validataion Accuracy: 97.11%\n",
            "Epoch 125/500 | Train Loss: 0.0651 | Train Accuracy: 97.32% | Validation Loss: 0.0669 | Validataion Accuracy: 97.12%\n",
            "Epoch 126/500 | Train Loss: 0.0649 | Train Accuracy: 97.32% | Validation Loss: 0.0667 | Validataion Accuracy: 97.14%\n",
            "Epoch 127/500 | Train Loss: 0.0649 | Train Accuracy: 97.35% | Validation Loss: 0.0667 | Validataion Accuracy: 97.15%\n",
            "Epoch 128/500 | Train Loss: 0.0649 | Train Accuracy: 97.33% | Validation Loss: 0.0666 | Validataion Accuracy: 97.15%\n",
            "Epoch 129/500 | Train Loss: 0.0647 | Train Accuracy: 97.34% | Validation Loss: 0.0666 | Validataion Accuracy: 97.18%\n",
            "Epoch 130/500 | Train Loss: 0.0646 | Train Accuracy: 97.35% | Validation Loss: 0.0665 | Validataion Accuracy: 97.14%\n",
            "Epoch 131/500 | Train Loss: 0.0645 | Train Accuracy: 97.37% | Validation Loss: 0.0664 | Validataion Accuracy: 97.16%\n",
            "Epoch 132/500 | Train Loss: 0.0643 | Train Accuracy: 97.36% | Validation Loss: 0.0663 | Validataion Accuracy: 97.19%\n",
            "Epoch 133/500 | Train Loss: 0.0642 | Train Accuracy: 97.37% | Validation Loss: 0.0661 | Validataion Accuracy: 97.18%\n",
            "Epoch 134/500 | Train Loss: 0.0641 | Train Accuracy: 97.37% | Validation Loss: 0.0660 | Validataion Accuracy: 97.17%\n",
            "Epoch 135/500 | Train Loss: 0.0640 | Train Accuracy: 97.38% | Validation Loss: 0.0660 | Validataion Accuracy: 97.21%\n",
            "Epoch 136/500 | Train Loss: 0.0640 | Train Accuracy: 97.38% | Validation Loss: 0.0658 | Validataion Accuracy: 97.17%\n",
            "Epoch 137/500 | Train Loss: 0.0639 | Train Accuracy: 97.37% | Validation Loss: 0.0658 | Validataion Accuracy: 97.21%\n",
            "Epoch 138/500 | Train Loss: 0.0639 | Train Accuracy: 97.40% | Validation Loss: 0.0658 | Validataion Accuracy: 97.22%\n",
            "Epoch 139/500 | Train Loss: 0.0636 | Train Accuracy: 97.39% | Validation Loss: 0.0656 | Validataion Accuracy: 97.20%\n",
            "Epoch 140/500 | Train Loss: 0.0637 | Train Accuracy: 97.39% | Validation Loss: 0.0656 | Validataion Accuracy: 97.25%\n",
            "Epoch 141/500 | Train Loss: 0.0636 | Train Accuracy: 97.40% | Validation Loss: 0.0654 | Validataion Accuracy: 97.20%\n",
            "Epoch 142/500 | Train Loss: 0.0635 | Train Accuracy: 97.41% | Validation Loss: 0.0653 | Validataion Accuracy: 97.24%\n",
            "Epoch 143/500 | Train Loss: 0.0632 | Train Accuracy: 97.41% | Validation Loss: 0.0654 | Validataion Accuracy: 97.25%\n",
            "Epoch 144/500 | Train Loss: 0.0635 | Train Accuracy: 97.43% | Validation Loss: 0.0652 | Validataion Accuracy: 97.25%\n",
            "Epoch 145/500 | Train Loss: 0.0631 | Train Accuracy: 97.41% | Validation Loss: 0.0651 | Validataion Accuracy: 97.24%\n",
            "Epoch 146/500 | Train Loss: 0.0630 | Train Accuracy: 97.42% | Validation Loss: 0.0650 | Validataion Accuracy: 97.24%\n",
            "Epoch 147/500 | Train Loss: 0.0627 | Train Accuracy: 97.44% | Validation Loss: 0.0649 | Validataion Accuracy: 97.26%\n",
            "Epoch 148/500 | Train Loss: 0.0628 | Train Accuracy: 97.44% | Validation Loss: 0.0650 | Validataion Accuracy: 97.24%\n",
            "Epoch 149/500 | Train Loss: 0.0627 | Train Accuracy: 97.44% | Validation Loss: 0.0648 | Validataion Accuracy: 97.24%\n",
            "Epoch 150/500 | Train Loss: 0.0626 | Train Accuracy: 97.43% | Validation Loss: 0.0647 | Validataion Accuracy: 97.27%\n",
            "Epoch 151/500 | Train Loss: 0.0625 | Train Accuracy: 97.45% | Validation Loss: 0.0647 | Validataion Accuracy: 97.29%\n",
            "Epoch 152/500 | Train Loss: 0.0624 | Train Accuracy: 97.47% | Validation Loss: 0.0645 | Validataion Accuracy: 97.25%\n",
            "Epoch 153/500 | Train Loss: 0.0622 | Train Accuracy: 97.46% | Validation Loss: 0.0645 | Validataion Accuracy: 97.34%\n",
            "Epoch 154/500 | Train Loss: 0.0623 | Train Accuracy: 97.46% | Validation Loss: 0.0644 | Validataion Accuracy: 97.28%\n",
            "Epoch 155/500 | Train Loss: 0.0622 | Train Accuracy: 97.47% | Validation Loss: 0.0643 | Validataion Accuracy: 97.27%\n",
            "Epoch 156/500 | Train Loss: 0.0621 | Train Accuracy: 97.49% | Validation Loss: 0.0644 | Validataion Accuracy: 97.28%\n",
            "Epoch 157/500 | Train Loss: 0.0621 | Train Accuracy: 97.48% | Validation Loss: 0.0644 | Validataion Accuracy: 97.31%\n",
            "Epoch 158/500 | Train Loss: 0.0621 | Train Accuracy: 97.49% | Validation Loss: 0.0641 | Validataion Accuracy: 97.30%\n",
            "Epoch 159/500 | Train Loss: 0.0617 | Train Accuracy: 97.49% | Validation Loss: 0.0639 | Validataion Accuracy: 97.33%\n",
            "Epoch 160/500 | Train Loss: 0.0619 | Train Accuracy: 97.49% | Validation Loss: 0.0639 | Validataion Accuracy: 97.36%\n",
            "Epoch 161/500 | Train Loss: 0.0615 | Train Accuracy: 97.49% | Validation Loss: 0.0640 | Validataion Accuracy: 97.33%\n",
            "Epoch 162/500 | Train Loss: 0.0616 | Train Accuracy: 97.50% | Validation Loss: 0.0640 | Validataion Accuracy: 97.30%\n",
            "Epoch 163/500 | Train Loss: 0.0615 | Train Accuracy: 97.52% | Validation Loss: 0.0637 | Validataion Accuracy: 97.34%\n",
            "Epoch 164/500 | Train Loss: 0.0614 | Train Accuracy: 97.51% | Validation Loss: 0.0635 | Validataion Accuracy: 97.36%\n",
            "Epoch 165/500 | Train Loss: 0.0613 | Train Accuracy: 97.53% | Validation Loss: 0.0636 | Validataion Accuracy: 97.36%\n",
            "Epoch 166/500 | Train Loss: 0.0614 | Train Accuracy: 97.55% | Validation Loss: 0.0634 | Validataion Accuracy: 97.35%\n",
            "Epoch 167/500 | Train Loss: 0.0612 | Train Accuracy: 97.54% | Validation Loss: 0.0639 | Validataion Accuracy: 97.34%\n",
            "Epoch 168/500 | Train Loss: 0.0611 | Train Accuracy: 97.54% | Validation Loss: 0.0636 | Validataion Accuracy: 97.36%\n",
            "Epoch 169/500 | Train Loss: 0.0612 | Train Accuracy: 97.55% | Validation Loss: 0.0634 | Validataion Accuracy: 97.40%\n",
            "Epoch 170/500 | Train Loss: 0.0609 | Train Accuracy: 97.55% | Validation Loss: 0.0634 | Validataion Accuracy: 97.35%\n",
            "Epoch 171/500 | Train Loss: 0.0610 | Train Accuracy: 97.54% | Validation Loss: 0.0633 | Validataion Accuracy: 97.42%\n",
            "Epoch 172/500 | Train Loss: 0.0610 | Train Accuracy: 97.58% | Validation Loss: 0.0632 | Validataion Accuracy: 97.37%\n",
            "Epoch 173/500 | Train Loss: 0.0608 | Train Accuracy: 97.55% | Validation Loss: 0.0632 | Validataion Accuracy: 97.37%\n",
            "Epoch 174/500 | Train Loss: 0.0607 | Train Accuracy: 97.58% | Validation Loss: 0.0633 | Validataion Accuracy: 97.39%\n",
            "Epoch 175/500 | Train Loss: 0.0606 | Train Accuracy: 97.56% | Validation Loss: 0.0632 | Validataion Accuracy: 97.40%\n",
            "Epoch 176/500 | Train Loss: 0.0606 | Train Accuracy: 97.58% | Validation Loss: 0.0633 | Validataion Accuracy: 97.36%\n",
            "Epoch 177/500 | Train Loss: 0.0604 | Train Accuracy: 97.59% | Validation Loss: 0.0631 | Validataion Accuracy: 97.39%\n",
            "Epoch 178/500 | Train Loss: 0.0605 | Train Accuracy: 97.59% | Validation Loss: 0.0631 | Validataion Accuracy: 97.41%\n",
            "Epoch 179/500 | Train Loss: 0.0605 | Train Accuracy: 97.59% | Validation Loss: 0.0631 | Validataion Accuracy: 97.42%\n",
            "Epoch 180/500 | Train Loss: 0.0604 | Train Accuracy: 97.60% | Validation Loss: 0.0630 | Validataion Accuracy: 97.38%\n",
            "Epoch 181/500 | Train Loss: 0.0602 | Train Accuracy: 97.60% | Validation Loss: 0.0628 | Validataion Accuracy: 97.44%\n",
            "Epoch 182/500 | Train Loss: 0.0601 | Train Accuracy: 97.61% | Validation Loss: 0.0628 | Validataion Accuracy: 97.43%\n",
            "Epoch 183/500 | Train Loss: 0.0601 | Train Accuracy: 97.61% | Validation Loss: 0.0627 | Validataion Accuracy: 97.40%\n",
            "Epoch 184/500 | Train Loss: 0.0603 | Train Accuracy: 97.62% | Validation Loss: 0.0628 | Validataion Accuracy: 97.40%\n",
            "Epoch 185/500 | Train Loss: 0.0600 | Train Accuracy: 97.62% | Validation Loss: 0.0626 | Validataion Accuracy: 97.44%\n",
            "Epoch 186/500 | Train Loss: 0.0600 | Train Accuracy: 97.61% | Validation Loss: 0.0627 | Validataion Accuracy: 97.41%\n",
            "Epoch 187/500 | Train Loss: 0.0601 | Train Accuracy: 97.62% | Validation Loss: 0.0626 | Validataion Accuracy: 97.46%\n",
            "Epoch 188/500 | Train Loss: 0.0598 | Train Accuracy: 97.63% | Validation Loss: 0.0626 | Validataion Accuracy: 97.47%\n",
            "Epoch 189/500 | Train Loss: 0.0598 | Train Accuracy: 97.64% | Validation Loss: 0.0626 | Validataion Accuracy: 97.45%\n",
            "Epoch 190/500 | Train Loss: 0.0597 | Train Accuracy: 97.63% | Validation Loss: 0.0625 | Validataion Accuracy: 97.46%\n",
            "Epoch 191/500 | Train Loss: 0.0598 | Train Accuracy: 97.63% | Validation Loss: 0.0625 | Validataion Accuracy: 97.46%\n",
            "Epoch 192/500 | Train Loss: 0.0596 | Train Accuracy: 97.64% | Validation Loss: 0.0624 | Validataion Accuracy: 97.44%\n",
            "Epoch 193/500 | Train Loss: 0.0596 | Train Accuracy: 97.65% | Validation Loss: 0.0627 | Validataion Accuracy: 97.41%\n",
            "Epoch 194/500 | Train Loss: 0.0596 | Train Accuracy: 97.64% | Validation Loss: 0.0624 | Validataion Accuracy: 97.46%\n",
            "Epoch 195/500 | Train Loss: 0.0594 | Train Accuracy: 97.63% | Validation Loss: 0.0624 | Validataion Accuracy: 97.43%\n",
            "Epoch 196/500 | Train Loss: 0.0594 | Train Accuracy: 97.64% | Validation Loss: 0.0624 | Validataion Accuracy: 97.49%\n",
            "Epoch 197/500 | Train Loss: 0.0594 | Train Accuracy: 97.64% | Validation Loss: 0.0624 | Validataion Accuracy: 97.46%\n",
            "Epoch 198/500 | Train Loss: 0.0593 | Train Accuracy: 97.65% | Validation Loss: 0.0623 | Validataion Accuracy: 97.47%\n",
            "Epoch 199/500 | Train Loss: 0.0594 | Train Accuracy: 97.66% | Validation Loss: 0.0623 | Validataion Accuracy: 97.44%\n",
            "Epoch 200/500 | Train Loss: 0.0596 | Train Accuracy: 97.65% | Validation Loss: 0.0622 | Validataion Accuracy: 97.52%\n",
            "Epoch 201/500 | Train Loss: 0.0591 | Train Accuracy: 97.66% | Validation Loss: 0.0622 | Validataion Accuracy: 97.47%\n",
            "Epoch 202/500 | Train Loss: 0.0591 | Train Accuracy: 97.66% | Validation Loss: 0.0620 | Validataion Accuracy: 97.52%\n",
            "Epoch 203/500 | Train Loss: 0.0592 | Train Accuracy: 97.67% | Validation Loss: 0.0621 | Validataion Accuracy: 97.49%\n",
            "Epoch 204/500 | Train Loss: 0.0590 | Train Accuracy: 97.67% | Validation Loss: 0.0621 | Validataion Accuracy: 97.51%\n",
            "Epoch 205/500 | Train Loss: 0.0592 | Train Accuracy: 97.66% | Validation Loss: 0.0620 | Validataion Accuracy: 97.51%\n",
            "Epoch 206/500 | Train Loss: 0.0589 | Train Accuracy: 97.66% | Validation Loss: 0.0619 | Validataion Accuracy: 97.49%\n",
            "Epoch 207/500 | Train Loss: 0.0591 | Train Accuracy: 97.67% | Validation Loss: 0.0621 | Validataion Accuracy: 97.48%\n",
            "Epoch 208/500 | Train Loss: 0.0590 | Train Accuracy: 97.67% | Validation Loss: 0.0621 | Validataion Accuracy: 97.52%\n",
            "Epoch 209/500 | Train Loss: 0.0588 | Train Accuracy: 97.67% | Validation Loss: 0.0618 | Validataion Accuracy: 97.51%\n",
            "Epoch 210/500 | Train Loss: 0.0590 | Train Accuracy: 97.67% | Validation Loss: 0.0619 | Validataion Accuracy: 97.50%\n",
            "Epoch 211/500 | Train Loss: 0.0588 | Train Accuracy: 97.68% | Validation Loss: 0.0619 | Validataion Accuracy: 97.50%\n",
            "Epoch 212/500 | Train Loss: 0.0586 | Train Accuracy: 97.68% | Validation Loss: 0.0618 | Validataion Accuracy: 97.50%\n",
            "Epoch 213/500 | Train Loss: 0.0588 | Train Accuracy: 97.69% | Validation Loss: 0.0619 | Validataion Accuracy: 97.53%\n",
            "Early stopping triggered.\n"
          ]
        }
      ]
    },
    {
      "cell_type": "markdown",
      "source": [
        "# 5. Evaluating Model"
      ],
      "metadata": {
        "id": "qF4MCjZXE1Hz"
      }
    },
    {
      "cell_type": "code",
      "source": [
        "import matplotlib.pyplot as plt\n",
        "\n",
        "plt.figure(figsize=(15, 5))\n",
        "\n",
        "# Loss 그래프\n",
        "plt.subplot(1, 2, 1)\n",
        "plt.title(f\"GRU_{INPUT_SIZE}I_{HIDDEN_SIZE}H_{NUM_LAYERS}L_{WINDOW_SIZE}W_{ACCELERATION_DATA_TYPE[0]} Loss\")\n",
        "plt.plot(train_loss, label='Train Loss')\n",
        "plt.plot(val_loss, label='Validation Loss')\n",
        "plt.xlabel('Epoch')\n",
        "plt.ylabel('Loss')\n",
        "plt.legend()\n",
        "\n",
        "# Accuracy 그래프\n",
        "plt.subplot(1, 2, 2)\n",
        "plt.title(f\"GRU_{INPUT_SIZE}I_{HIDDEN_SIZE}H_{NUM_LAYERS}L_{WINDOW_SIZE}W_{ACCELERATION_DATA_TYPE[0]} Accuracy\")\n",
        "plt.plot(train_accuracy[1:], label='Train Accuracy')\n",
        "plt.plot(val_accuracy[1:], label='Validation Accuracy')\n",
        "plt.xlabel('Epoch')\n",
        "plt.ylabel('Accuracy')\n",
        "plt.legend()\n",
        "\n",
        "# 마지막 Accuracy 점 찍기 및 텍스트 표시\n",
        "last_epoch = len(train_accuracy) - 1\n",
        "\n",
        "# Train accuracy\n",
        "plt.scatter(last_epoch, train_accuracy[-1], color='blue')\n",
        "plt.text(last_epoch, train_accuracy[-1],\n",
        "         f\"{train_accuracy[-1]:.4f}\",\n",
        "         color='black', ha='center')\n",
        "\n",
        "\n",
        "# Validation accuracy\n",
        "plt.scatter(last_epoch, val_accuracy[-1], color='orange')\n",
        "plt.text(last_epoch, val_accuracy[-1],\n",
        "         f\"{val_accuracy[-1]:.4f}\",\n",
        "         color='black', ha='center')\n",
        "\n",
        "# 저장 및 출력\n",
        "plt.savefig(f\"GRU_{INPUT_SIZE}I_{HIDDEN_SIZE}H_{NUM_LAYERS}L_{WINDOW_SIZE}W_{ACCELERATION_DATA_TYPE[0]}_GRAPH\")\n",
        "plt.show()\n"
      ],
      "metadata": {
        "id": "PAqv11c7L65I",
        "colab": {
          "base_uri": "https://localhost:8080/",
          "height": 428
        },
        "outputId": "4e18391c-be91-45a2-81c1-54f6f0e58342"
      },
      "execution_count": null,
      "outputs": [
        {
          "output_type": "display_data",
          "data": {
            "text/plain": [
              "<Figure size 1500x500 with 2 Axes>"
            ],
            "image/png": "[encoded data removed]"
          },
          "metadata": {}
        }
      ]
    },
    {
      "cell_type": "code",
      "source": [
        "model(data.to(device, dtype = torch.float32)[0][0].unsqueeze(0).unsqueeze(1))"
      ],
      "metadata": {
        "id": "Z7eD9HlmCQdq",
        "colab": {
          "base_uri": "https://localhost:8080/"
        },
        "outputId": "1993b1ca-7ecf-499d-add7-4273111e63c2"
      },
      "execution_count": null,
      "outputs": [
        {
          "output_type": "execute_result",
          "data": {
            "text/plain": [
              "(tensor([[[  3.6340,   2.0144,  -1.3397,  -6.0001, -15.1176]]],\n",
              "        grad_fn=<ViewBackward0>),\n",
              " tensor([[[ 0.2951, -0.8346,  0.4210, -0.9752, -0.1669, -0.8482,  0.8390,\n",
              "           -0.1772,  0.8784,  0.9154]]], grad_fn=<StackBackward0>))"
            ]
          },
          "metadata": {},
          "execution_count": 53
        }
      ]
    },
    {
      "cell_type": "markdown",
      "source": [
        "# 6. Downloading Model"
      ],
      "metadata": {
        "id": "LnzB8KF0E3e-"
      }
    },
    {
      "cell_type": "code",
      "source": [
        "# result = torch.jit.trace(model, data.permute(1, 0, 2).to(device, dtype = torch.float32))\n",
        "\n",
        "# result.save(f\"GRU_{INPUT_SIZE}I_{HIDDEN_SIZE}H_{NUM_LAYERS}L_{WINDOW_SIZE}W.pt\")"
      ],
      "metadata": {
        "id": "fgf9guCpE5U0"
      },
      "execution_count": null,
      "outputs": []
    },
    {
      "cell_type": "code",
      "metadata": {
        "id": "52a332de",
        "colab": {
          "base_uri": "https://localhost:8080/"
        },
        "outputId": "8e9ddf0c-9086-45c2-d9bf-07faf74b484d"
      },
      "source": [
        "!pip install onnx"
      ],
      "execution_count": null,
      "outputs": [
        {
          "output_type": "stream",
          "name": "stdout",
          "text": [
            "Requirement already satisfied: onnx in /usr/local/lib/python3.11/dist-packages (1.18.0)\n",
            "Requirement already satisfied: numpy>=1.22 in /usr/local/lib/python3.11/dist-packages (from onnx) (2.0.2)\n",
            "Requirement already satisfied: protobuf>=4.25.1 in /usr/local/lib/python3.11/dist-packages (from onnx) (5.29.5)\n",
            "Requirement already satisfied: typing_extensions>=4.7.1 in /usr/local/lib/python3.11/dist-packages (from onnx) (4.14.1)\n"
          ]
        }
      ]
    },
    {
      "cell_type": "code",
      "source": [
        "import torch.onnx\n",
        "\n",
        "torch.onnx.export(\n",
        "    model,\n",
        "    data.permute(1, 0, 2).to(device, dtype=torch.float32),\n",
        "    f\"GRU_{INPUT_SIZE}I_{HIDDEN_SIZE}H_{NUM_LAYERS}L_{WINDOW_SIZE}W_{ACCELERATION_DATA_TYPE[0]}.onnx\",\n",
        "    input_names=['input'],\n",
        "    output_names=['output'],\n",
        "    dynamic_axes={\n",
        "        'input': {0: 'seq_len', 1: 'batch_size'},\n",
        "    },\n",
        "    opset_version=12\n",
        ")"
      ],
      "metadata": {
        "id": "SjQIiATBTSe5",
        "colab": {
          "base_uri": "https://localhost:8080/"
        },
        "outputId": "42a8935d-d6bd-4011-ca4c-7d11070f5eb1"
      },
      "execution_count": null,
      "outputs": [
        {
          "output_type": "stream",
          "name": "stderr",
          "text": [
            "/usr/local/lib/python3.11/dist-packages/torch/onnx/symbolic_opset9.py:4277: UserWarning: Exporting a model to ONNX with a batch_size other than 1, with a variable length with GRU can cause an error when running the ONNX model with a different batch size. Make sure to save the model with a batch size of 1, or define the initial states (h0/c0) as inputs of the model. \n",
            "  warnings.warn(\n"
          ]
        }
      ]
    }
  ]
}