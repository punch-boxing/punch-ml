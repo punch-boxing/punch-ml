{
  "nbformat": 4,
  "nbformat_minor": 0,
  "metadata": {
    "colab": {
      "provenance": [],
      "gpuType": "T4",
      "authorship_tag": "ABX9TyNulDQMTm1paHJ4AzKyOfvO",
      "include_colab_link": true
    },
    "kernelspec": {
      "name": "python3",
      "display_name": "Python 3"
    },
    "language_info": {
      "name": "python"
    },
    "accelerator": "GPU"
  },
  "cells": [
    {
      "cell_type": "markdown",
      "metadata": {
        "id": "view-in-github",
        "colab_type": "text"
      },
      "source": [
        "<a href=\"https://colab.research.google.com/github/punch-boxing/punch-ml/blob/main/punch_ml_pytorch_v1.ipynb\" target=\"_parent\"><img src=\"https://colab.research.google.com/assets/colab-badge.svg\" alt=\"Open In Colab\"/></a>"
      ]
    },
    {
      "cell_type": "markdown",
      "source": [
        "# 0. Settings"
      ],
      "metadata": {
        "id": "k8HlMICx4Oeu"
      }
    },
    {
      "cell_type": "code",
      "source": [
        "# default values\n",
        "PUNCH_TYPES = {\n",
        "    \"None\": 0,\n",
        "    \"Straight\": 1,\n",
        "    \"Hook\": 2,\n",
        "    \"Body\": 3,\n",
        "    \"Uppercut\": 4,\n",
        "}\n",
        "\n",
        "# values for model training\n",
        "INPUT_SIZE = 3\n",
        "HIDDEN_SIZE = 10\n",
        "NUM_LAYERS = 2\n",
        "WINDOW_SIZE = 20\n",
        "\n",
        "\n",
        "# values for preparing data\n",
        "MAX_DATA_NUMBER = 15 # file counts\n",
        "ACCELERATION_DATA_TYPE = \"Acceleration\" # \"Acceleration\" for \"Raw Acceleration\""
      ],
      "metadata": {
        "id": "3bxqJtAS4OGz"
      },
      "execution_count": null,
      "outputs": []
    },
    {
      "cell_type": "markdown",
      "source": [
        "# 1. Preparing Model"
      ],
      "metadata": {
        "id": "5X_mopN-3szE"
      }
    },
    {
      "cell_type": "code",
      "execution_count": null,
      "metadata": {
        "id": "-WgtG6WL0dsv"
      },
      "outputs": [],
      "source": [
        "import torch\n",
        "import torch.nn as nn\n",
        "import torch.nn.functional as F\n",
        "\n",
        "device = torch.device('cuda' if torch.cuda.is_available() else 'cpu')\n",
        "\n",
        "class PUNCH_ML(nn.Module):\n",
        "    def __init__(self, input_size=INPUT_SIZE, hidden_size=HIDDEN_SIZE, num_layers=NUM_LAYERS, num_classes=len(PUNCH_TYPES), stateful=False):\n",
        "        super(PUNCH_ML, self).__init__() # Corrected class name here\n",
        "        self.stateful = stateful\n",
        "        self.hidden_size = hidden_size\n",
        "        self.num_layers = num_layers\n",
        "        self.hidden = None  # used only if stateful\n",
        "\n",
        "        # a layer that puts the accelerometer value into tanh function, this layer makes the accelerometer value from -1 ~ 1\n",
        "        self.tanh = nn.Tanh()\n",
        "        self.gru = nn.GRU(input_size, hidden_size, num_layers)\n",
        "        self.fc = nn.Linear(hidden_size, num_classes)\n",
        "\n",
        "    def reset_state(self, batch_size=1, device='cuda'):\n",
        "        self.hidden = torch.zeros(self.num_layers, batch_size, self.hidden_size).to(device)\n",
        "\n",
        "    def forward(self, x):\n",
        "        x = self.tanh(x)\n",
        "\n",
        "        if self.stateful:\n",
        "            out, self.hidden = self.gru(x, self.hidden.detach())\n",
        "        else:\n",
        "            out, _ = self.gru(x)\n",
        "\n",
        "        out = self.fc(out[-1])  # use last timestep's output\n",
        "        return out"
      ]
    },
    {
      "cell_type": "markdown",
      "source": [
        "# 2. Preparing Data"
      ],
      "metadata": {
        "id": "6c4aMwT63val"
      }
    },
    {
      "cell_type": "code",
      "source": [
        "import pandas as pd\n",
        "\n",
        "raw_datas = []\n",
        "\n",
        "# Columns\n",
        "# Index,Time,Raw Acceleration X,Raw Acceleration Y,Raw Acceleration Z,Acceleration X,Acceleration Y,Acceleration Z,Angular Velocity X,Angular Velocity Y,Angular Velocity Z,Orientation X,Orientation Y,Orientation Z,Punch Type\n",
        "\n",
        "for i in range(1, MAX_DATA_NUMBER + 1):\n",
        "  try:\n",
        "    data = pd.read_csv(f\"{i}.csv\")\n",
        "    data[\"Punch Index\"] = data[\"Punch Type\"].map(PUNCH_TYPES).fillna(0).astype(int)\n",
        "    raw_datas.append(data)\n",
        "  except:\n",
        "    print(f\"No data for {i}.csv\")"
      ],
      "metadata": {
        "colab": {
          "base_uri": "https://localhost:8080/"
        },
        "id": "rEIflr6i15nE",
        "outputId": "64217a22-6819-401f-8f6a-64012600c083"
      },
      "execution_count": null,
      "outputs": [
        {
          "output_type": "stream",
          "name": "stdout",
          "text": [
            "No data for 11.csv\n",
            "No data for 12.csv\n",
            "No data for 13.csv\n",
            "No data for 14.csv\n",
            "No data for 15.csv\n"
          ]
        }
      ]
    },
    {
      "cell_type": "code",
      "source": [
        "import numpy as np\n",
        "from sklearn.model_selection import train_test_split\n",
        "\n",
        "datas = []\n",
        "targets = []\n",
        "\n",
        "for data in raw_datas:\n",
        "  x = data[ACCELERATION_DATA_TYPE + \" X\"].values\n",
        "  y = data[ACCELERATION_DATA_TYPE + \" Y\"].values\n",
        "  z = data[ACCELERATION_DATA_TYPE + \" Z\"].values\n",
        "  punch = data['Punch Index'].values\n",
        "\n",
        "  for i in range(len(data) - WINDOW_SIZE):\n",
        "    datas.append(np.array([\n",
        "        x[i:i+WINDOW_SIZE],\n",
        "        y[i:i+WINDOW_SIZE],\n",
        "        z[i:i+WINDOW_SIZE],\n",
        "    ]).T) # Transpose to get shape (WINDOW_SIZE, num_features)\n",
        "    targets.append(punch[i + WINDOW_SIZE])\n",
        "\n",
        "\n",
        "X = np.array(datas)\n",
        "y = np.array(targets)\n",
        "\n",
        "X_train, X_test, y_train, y_test = train_test_split(X, y, test_size=0.2, random_state=42)\n",
        "\n",
        "\n",
        "train_loader = torch.utils.data.DataLoader(\n",
        "    torch.utils.data.TensorDataset(torch.from_numpy(X_train), torch.from_numpy(y_train)),\n",
        "    batch_size=64,\n",
        "    shuffle=True\n",
        ")\n",
        "\n",
        "test_loader = torch.utils.data.DataLoader(\n",
        "    torch.utils.data.TensorDataset(torch.from_numpy(X_test), torch.from_numpy(y_test)),\n",
        "    batch_size=64,\n",
        "    shuffle=False\n",
        ")\n",
        "\n",
        "for data, target in train_loader:\n",
        "  print(data.shape, target.shape)\n",
        "  break\n",
        "\n",
        "print(X_train.shape)\n",
        "print(X_test.shape)"
      ],
      "metadata": {
        "colab": {
          "base_uri": "https://localhost:8080/"
        },
        "id": "TXEcExCA5osU",
        "outputId": "0b34e561-5492-49b4-bd7b-33ad7dcaba7a"
      },
      "execution_count": null,
      "outputs": [
        {
          "output_type": "stream",
          "name": "stdout",
          "text": [
            "torch.Size([64, 20, 3]) torch.Size([64])\n",
            "(6228, 20, 3)\n",
            "(1558, 20, 3)\n"
          ]
        }
      ]
    },
    {
      "cell_type": "markdown",
      "source": [
        "# 3. Compiling Model"
      ],
      "metadata": {
        "id": "rWprTFS86dQh"
      }
    },
    {
      "cell_type": "code",
      "source": [
        "from torchsummary import summary\n",
        "\n",
        "print(f\"Using Device : {device}\")\n",
        "\n",
        "model = PUNCH_ML().to(device)\n",
        "criterion = nn.CrossEntropyLoss()\n",
        "optimizer = torch.optim.Adam(model.parameters(), lr=0.001)\n",
        "\n",
        "summary(model, (WINDOW_SIZE, INPUT_SIZE))\n"
      ],
      "metadata": {
        "colab": {
          "base_uri": "https://localhost:8080/"
        },
        "id": "7A68I92w6fE-",
        "outputId": "b2182c8f-d156-4502-8867-46923e981be1"
      },
      "execution_count": null,
      "outputs": [
        {
          "output_type": "stream",
          "name": "stdout",
          "text": [
            "Using Device : cuda\n",
            "----------------------------------------------------------------\n",
            "        Layer (type)               Output Shape         Param #\n",
            "================================================================\n",
            "              Tanh-1                [-1, 20, 3]               0\n",
            "               GRU-2  [[-1, 20, 10], [-1, 20, 10]]               0\n",
            "            Linear-3                    [-1, 5]              55\n",
            "================================================================\n",
            "Total params: 55\n",
            "Trainable params: 55\n",
            "Non-trainable params: 0\n",
            "----------------------------------------------------------------\n",
            "Input size (MB): 0.00\n",
            "Forward/backward pass size (MB): 0.30\n",
            "Params size (MB): 0.00\n",
            "Estimated Total Size (MB): 0.31\n",
            "----------------------------------------------------------------\n"
          ]
        }
      ]
    },
    {
      "cell_type": "markdown",
      "source": [
        "# 4. Training Model"
      ],
      "metadata": {
        "id": "SAo420NgExxP"
      }
    },
    {
      "cell_type": "code",
      "source": [
        "# import torch\n",
        "\n",
        "# best_loss = float('inf')\n",
        "# epochs = 100\n",
        "# patience = 5\n",
        "# counter = 0\n",
        "\n",
        "# train_loss_history = []\n",
        "# val_loss_history = []\n",
        "# train_accuracy_history = []\n",
        "# val_accuracy_history = []\n",
        "\n",
        "# for epoch in range(epochs):\n",
        "#   model.train()\n",
        "#   train_loss = 0.0\n",
        "\n",
        "#   for data, target in train_loader:\n",
        "#       data = data.permute(1, 0, 2).to(device, dtype=torch.float32)\n",
        "#       target = target.to(device)\n",
        "#       output = model(data)\n",
        "#       loss = criterion(output, target)\n",
        "\n",
        "#       optimizer.zero_grad()\n",
        "#       loss.backward()\n",
        "#       optimizer.step()\n",
        "\n",
        "#       _, predicted = torch.max(output.data, 1)\n",
        "#       correct = (predicted == target).sum().item()\n",
        "#       accuracy = correct / target.size(0)\n",
        "\n",
        "#       train_accuracy_history.append(accuracy)\n",
        "#       train_loss += loss.item()\n",
        "\n",
        "#   train_loss /= len(train_loader)\n",
        "#   train_loss_history.append(train_loss)\n",
        "\n",
        "#   model.eval()\n",
        "#   val_loss = 0.0\n",
        "#   with torch.no_grad():\n",
        "#       for data, target in test_loader:\n",
        "#           data = data.permute(1, 0, 2).to(device, dtype=torch.float32)\n",
        "#           target = target.to(device)\n",
        "\n",
        "#           output = model(data)\n",
        "#           loss = criterion(output, target)\n",
        "\n",
        "#           _, predicted = torch.max(output.data, 1)\n",
        "#           correct = (predicted == target).sum().item()\n",
        "#           accuracy = correct / target.size(0)\n",
        "\n",
        "#           val_accuracy_history.append(accuracy)\n",
        "#           val_loss += loss.item()\n",
        "\n",
        "#   val_loss /= len(test_loader)\n",
        "#   val_loss_history.append(val_loss)\n",
        "\n",
        "#   print(f\"Epoch {epoch + 1}/{epochs}, Train Loss: {train_loss:.4f}, Validation Loss: {val_loss:.4f} Val\")\n",
        "\n",
        "#   if val_loss < best_loss:\n",
        "#       best_loss = val_loss\n",
        "#       counter = 0\n",
        "#       # torch.save(model.state_dict(), 'best_model.pth')  # Optional\n",
        "#   else:\n",
        "#       counter += 1\n",
        "#       if counter >= patience:\n",
        "#           print(\"Early stopping\")\n",
        "#           break"
      ],
      "metadata": {
        "id": "OdaJnons8HvQ"
      },
      "execution_count": null,
      "outputs": []
    },
    {
      "cell_type": "code",
      "source": [
        "def evaluate(model, data_loader, criterion, device):\n",
        "    model.eval()\n",
        "    total_loss = 0.0\n",
        "    total_correct = 0\n",
        "    total_samples = 0\n",
        "\n",
        "    with torch.no_grad():\n",
        "        for data, target in data_loader:\n",
        "            data = data.permute(1, 0, 2).to(device, dtype=torch.float32)\n",
        "            target = target.to(device)\n",
        "\n",
        "            output = model(data)\n",
        "            loss = criterion(output, target)\n",
        "\n",
        "            total_loss += loss.item()\n",
        "            _, predicted = torch.max(output, 1)\n",
        "            total_correct += (predicted == target).sum().item()\n",
        "            total_samples += target.size(0)\n",
        "\n",
        "    avg_loss = total_loss / len(data_loader)\n",
        "    accuracy = total_correct / total_samples\n",
        "    return avg_loss, accuracy\n",
        "\n",
        "best_loss = float('inf')\n",
        "epochs = 100\n",
        "patience = 5\n",
        "counter = 0\n",
        "\n",
        "train_loss_history = []\n",
        "val_loss_history = []\n",
        "train_accuracy_history = []\n",
        "val_accuracy_history = []\n",
        "\n",
        "for epoch in range(epochs):\n",
        "    model.train()\n",
        "    total_train_loss = 0.0\n",
        "    total_correct = 0\n",
        "    total_samples = 0\n",
        "\n",
        "    for data, target in train_loader:\n",
        "        data = data.permute(1, 0, 2).to(device, dtype=torch.float32)\n",
        "        target = target.to(device)\n",
        "\n",
        "        output = model(data)\n",
        "        loss = criterion(output, target)\n",
        "\n",
        "        optimizer.zero_grad()\n",
        "        loss.backward()\n",
        "        optimizer.step()\n",
        "\n",
        "        total_train_loss += loss.item()\n",
        "        _, predicted = torch.max(output, 1)\n",
        "        total_correct += (predicted == target).sum().item()\n",
        "        total_samples += target.size(0)\n",
        "\n",
        "    train_loss = total_train_loss / len(train_loader)\n",
        "    train_accuracy = total_correct / total_samples\n",
        "    train_loss_history.append(train_loss)\n",
        "    train_accuracy_history.append(train_accuracy)\n",
        "\n",
        "    val_loss, val_accuracy = evaluate(model, test_loader, criterion, device)\n",
        "    val_loss_history.append(val_loss)\n",
        "    val_accuracy_history.append(val_accuracy)\n",
        "\n",
        "    print(f\"Epoch {epoch+1}/{epochs} | Train Loss: {train_loss:.4f} | Train Accuracy: {train_accuracy:.4f} | Val Loss: {val_loss:.4f} | Val Accuracy: {val_accuracy:.4f}\")\n",
        "\n",
        "    if val_loss < best_loss:\n",
        "        best_loss = val_loss\n",
        "        counter = 0\n",
        "        # torch.save(model.state_dict(), 'best_model.pth')\n",
        "    else:\n",
        "        counter += 1\n",
        "        if counter >= patience:\n",
        "            print(\"Early stopping triggered.\")\n",
        "            break\n"
      ],
      "metadata": {
        "colab": {
          "base_uri": "https://localhost:8080/"
        },
        "id": "DR7JIQ7-OM_t",
        "outputId": "36936cfa-ab9b-4bcb-b01d-de1a3519f07a"
      },
      "execution_count": null,
      "outputs": [
        {
          "output_type": "stream",
          "name": "stdout",
          "text": [
            "Epoch 1/100 | Train Loss: 0.8937 | Train Accuracy: 0.8353 | Val Loss: 0.2726 | Val Accuracy: 0.9685\n",
            "Epoch 2/100 | Train Loss: 0.2432 | Train Accuracy: 0.9637 | Val Loss: 0.1935 | Val Accuracy: 0.9685\n",
            "Epoch 3/100 | Train Loss: 0.2116 | Train Accuracy: 0.9637 | Val Loss: 0.1820 | Val Accuracy: 0.9685\n",
            "Epoch 4/100 | Train Loss: 0.2063 | Train Accuracy: 0.9637 | Val Loss: 0.1774 | Val Accuracy: 0.9685\n",
            "Epoch 5/100 | Train Loss: 0.2030 | Train Accuracy: 0.9637 | Val Loss: 0.1749 | Val Accuracy: 0.9685\n",
            "Epoch 6/100 | Train Loss: 0.1995 | Train Accuracy: 0.9637 | Val Loss: 0.1734 | Val Accuracy: 0.9685\n",
            "Epoch 7/100 | Train Loss: 0.2010 | Train Accuracy: 0.9637 | Val Loss: 0.1722 | Val Accuracy: 0.9685\n",
            "Epoch 8/100 | Train Loss: 0.1985 | Train Accuracy: 0.9637 | Val Loss: 0.1713 | Val Accuracy: 0.9685\n",
            "Epoch 9/100 | Train Loss: 0.1958 | Train Accuracy: 0.9637 | Val Loss: 0.1702 | Val Accuracy: 0.9685\n",
            "Epoch 10/100 | Train Loss: 0.1952 | Train Accuracy: 0.9637 | Val Loss: 0.1685 | Val Accuracy: 0.9685\n",
            "Epoch 11/100 | Train Loss: 0.1869 | Train Accuracy: 0.9637 | Val Loss: 0.1604 | Val Accuracy: 0.9685\n",
            "Epoch 12/100 | Train Loss: 0.1728 | Train Accuracy: 0.9637 | Val Loss: 0.1496 | Val Accuracy: 0.9685\n",
            "Epoch 13/100 | Train Loss: 0.1594 | Train Accuracy: 0.9637 | Val Loss: 0.1442 | Val Accuracy: 0.9685\n",
            "Epoch 14/100 | Train Loss: 0.1534 | Train Accuracy: 0.9637 | Val Loss: 0.1396 | Val Accuracy: 0.9685\n",
            "Epoch 15/100 | Train Loss: 0.1476 | Train Accuracy: 0.9637 | Val Loss: 0.1364 | Val Accuracy: 0.9685\n",
            "Epoch 16/100 | Train Loss: 0.1486 | Train Accuracy: 0.9637 | Val Loss: 0.1343 | Val Accuracy: 0.9685\n",
            "Epoch 17/100 | Train Loss: 0.1439 | Train Accuracy: 0.9637 | Val Loss: 0.1342 | Val Accuracy: 0.9685\n",
            "Epoch 18/100 | Train Loss: 0.1423 | Train Accuracy: 0.9637 | Val Loss: 0.1339 | Val Accuracy: 0.9685\n",
            "Epoch 19/100 | Train Loss: 0.1410 | Train Accuracy: 0.9637 | Val Loss: 0.1324 | Val Accuracy: 0.9685\n",
            "Epoch 20/100 | Train Loss: 0.1404 | Train Accuracy: 0.9637 | Val Loss: 0.1313 | Val Accuracy: 0.9685\n",
            "Epoch 21/100 | Train Loss: 0.1391 | Train Accuracy: 0.9637 | Val Loss: 0.1308 | Val Accuracy: 0.9685\n",
            "Epoch 22/100 | Train Loss: 0.1403 | Train Accuracy: 0.9637 | Val Loss: 0.1312 | Val Accuracy: 0.9685\n",
            "Epoch 23/100 | Train Loss: 0.1376 | Train Accuracy: 0.9637 | Val Loss: 0.1306 | Val Accuracy: 0.9685\n",
            "Epoch 24/100 | Train Loss: 0.1382 | Train Accuracy: 0.9636 | Val Loss: 0.1302 | Val Accuracy: 0.9685\n",
            "Epoch 25/100 | Train Loss: 0.1385 | Train Accuracy: 0.9637 | Val Loss: 0.1297 | Val Accuracy: 0.9685\n",
            "Epoch 26/100 | Train Loss: 0.1359 | Train Accuracy: 0.9634 | Val Loss: 0.1292 | Val Accuracy: 0.9685\n",
            "Epoch 27/100 | Train Loss: 0.1356 | Train Accuracy: 0.9637 | Val Loss: 0.1286 | Val Accuracy: 0.9685\n",
            "Epoch 28/100 | Train Loss: 0.1358 | Train Accuracy: 0.9637 | Val Loss: 0.1282 | Val Accuracy: 0.9685\n",
            "Epoch 29/100 | Train Loss: 0.1356 | Train Accuracy: 0.9637 | Val Loss: 0.1276 | Val Accuracy: 0.9685\n",
            "Epoch 30/100 | Train Loss: 0.1336 | Train Accuracy: 0.9637 | Val Loss: 0.1278 | Val Accuracy: 0.9685\n",
            "Epoch 31/100 | Train Loss: 0.1349 | Train Accuracy: 0.9637 | Val Loss: 0.1270 | Val Accuracy: 0.9685\n",
            "Epoch 32/100 | Train Loss: 0.1345 | Train Accuracy: 0.9637 | Val Loss: 0.1263 | Val Accuracy: 0.9685\n",
            "Epoch 33/100 | Train Loss: 0.1319 | Train Accuracy: 0.9637 | Val Loss: 0.1265 | Val Accuracy: 0.9685\n",
            "Epoch 34/100 | Train Loss: 0.1318 | Train Accuracy: 0.9637 | Val Loss: 0.1256 | Val Accuracy: 0.9685\n",
            "Epoch 35/100 | Train Loss: 0.1318 | Train Accuracy: 0.9637 | Val Loss: 0.1265 | Val Accuracy: 0.9685\n",
            "Epoch 36/100 | Train Loss: 0.1306 | Train Accuracy: 0.9637 | Val Loss: 0.1249 | Val Accuracy: 0.9685\n",
            "Epoch 37/100 | Train Loss: 0.1304 | Train Accuracy: 0.9637 | Val Loss: 0.1250 | Val Accuracy: 0.9685\n",
            "Epoch 38/100 | Train Loss: 0.1295 | Train Accuracy: 0.9637 | Val Loss: 0.1234 | Val Accuracy: 0.9685\n",
            "Epoch 39/100 | Train Loss: 0.1297 | Train Accuracy: 0.9637 | Val Loss: 0.1227 | Val Accuracy: 0.9685\n",
            "Epoch 40/100 | Train Loss: 0.1284 | Train Accuracy: 0.9637 | Val Loss: 0.1224 | Val Accuracy: 0.9685\n",
            "Epoch 41/100 | Train Loss: 0.1296 | Train Accuracy: 0.9637 | Val Loss: 0.1221 | Val Accuracy: 0.9685\n",
            "Epoch 42/100 | Train Loss: 0.1278 | Train Accuracy: 0.9637 | Val Loss: 0.1222 | Val Accuracy: 0.9685\n",
            "Epoch 43/100 | Train Loss: 0.1273 | Train Accuracy: 0.9637 | Val Loss: 0.1219 | Val Accuracy: 0.9685\n",
            "Epoch 44/100 | Train Loss: 0.1270 | Train Accuracy: 0.9637 | Val Loss: 0.1204 | Val Accuracy: 0.9685\n",
            "Epoch 45/100 | Train Loss: 0.1260 | Train Accuracy: 0.9637 | Val Loss: 0.1219 | Val Accuracy: 0.9685\n",
            "Epoch 46/100 | Train Loss: 0.1261 | Train Accuracy: 0.9637 | Val Loss: 0.1204 | Val Accuracy: 0.9685\n",
            "Epoch 47/100 | Train Loss: 0.1261 | Train Accuracy: 0.9637 | Val Loss: 0.1206 | Val Accuracy: 0.9685\n",
            "Epoch 48/100 | Train Loss: 0.1255 | Train Accuracy: 0.9637 | Val Loss: 0.1200 | Val Accuracy: 0.9685\n",
            "Epoch 49/100 | Train Loss: 0.1262 | Train Accuracy: 0.9637 | Val Loss: 0.1194 | Val Accuracy: 0.9685\n",
            "Epoch 50/100 | Train Loss: 0.1242 | Train Accuracy: 0.9637 | Val Loss: 0.1183 | Val Accuracy: 0.9685\n",
            "Epoch 51/100 | Train Loss: 0.1227 | Train Accuracy: 0.9637 | Val Loss: 0.1188 | Val Accuracy: 0.9685\n",
            "Epoch 52/100 | Train Loss: 0.1224 | Train Accuracy: 0.9637 | Val Loss: 0.1187 | Val Accuracy: 0.9685\n",
            "Epoch 53/100 | Train Loss: 0.1230 | Train Accuracy: 0.9637 | Val Loss: 0.1177 | Val Accuracy: 0.9685\n",
            "Epoch 54/100 | Train Loss: 0.1206 | Train Accuracy: 0.9637 | Val Loss: 0.1182 | Val Accuracy: 0.9685\n",
            "Epoch 55/100 | Train Loss: 0.1219 | Train Accuracy: 0.9639 | Val Loss: 0.1171 | Val Accuracy: 0.9685\n",
            "Epoch 56/100 | Train Loss: 0.1200 | Train Accuracy: 0.9637 | Val Loss: 0.1172 | Val Accuracy: 0.9685\n",
            "Epoch 57/100 | Train Loss: 0.1213 | Train Accuracy: 0.9637 | Val Loss: 0.1161 | Val Accuracy: 0.9685\n",
            "Epoch 58/100 | Train Loss: 0.1187 | Train Accuracy: 0.9640 | Val Loss: 0.1157 | Val Accuracy: 0.9685\n",
            "Epoch 59/100 | Train Loss: 0.1186 | Train Accuracy: 0.9639 | Val Loss: 0.1152 | Val Accuracy: 0.9685\n",
            "Epoch 60/100 | Train Loss: 0.1169 | Train Accuracy: 0.9639 | Val Loss: 0.1151 | Val Accuracy: 0.9685\n",
            "Epoch 61/100 | Train Loss: 0.1172 | Train Accuracy: 0.9639 | Val Loss: 0.1148 | Val Accuracy: 0.9685\n",
            "Epoch 62/100 | Train Loss: 0.1163 | Train Accuracy: 0.9640 | Val Loss: 0.1152 | Val Accuracy: 0.9679\n",
            "Epoch 63/100 | Train Loss: 0.1158 | Train Accuracy: 0.9637 | Val Loss: 0.1144 | Val Accuracy: 0.9685\n",
            "Epoch 64/100 | Train Loss: 0.1146 | Train Accuracy: 0.9642 | Val Loss: 0.1139 | Val Accuracy: 0.9685\n",
            "Epoch 65/100 | Train Loss: 0.1158 | Train Accuracy: 0.9640 | Val Loss: 0.1140 | Val Accuracy: 0.9679\n",
            "Epoch 66/100 | Train Loss: 0.1131 | Train Accuracy: 0.9640 | Val Loss: 0.1132 | Val Accuracy: 0.9685\n",
            "Epoch 67/100 | Train Loss: 0.1122 | Train Accuracy: 0.9639 | Val Loss: 0.1130 | Val Accuracy: 0.9685\n",
            "Epoch 68/100 | Train Loss: 0.1111 | Train Accuracy: 0.9645 | Val Loss: 0.1124 | Val Accuracy: 0.9685\n",
            "Epoch 69/100 | Train Loss: 0.1115 | Train Accuracy: 0.9644 | Val Loss: 0.1124 | Val Accuracy: 0.9679\n",
            "Epoch 70/100 | Train Loss: 0.1104 | Train Accuracy: 0.9647 | Val Loss: 0.1125 | Val Accuracy: 0.9685\n",
            "Epoch 71/100 | Train Loss: 0.1087 | Train Accuracy: 0.9640 | Val Loss: 0.1124 | Val Accuracy: 0.9679\n",
            "Epoch 72/100 | Train Loss: 0.1089 | Train Accuracy: 0.9648 | Val Loss: 0.1126 | Val Accuracy: 0.9673\n",
            "Epoch 73/100 | Train Loss: 0.1072 | Train Accuracy: 0.9650 | Val Loss: 0.1121 | Val Accuracy: 0.9685\n",
            "Epoch 74/100 | Train Loss: 0.1063 | Train Accuracy: 0.9656 | Val Loss: 0.1120 | Val Accuracy: 0.9679\n",
            "Epoch 75/100 | Train Loss: 0.1064 | Train Accuracy: 0.9655 | Val Loss: 0.1130 | Val Accuracy: 0.9673\n",
            "Epoch 76/100 | Train Loss: 0.1049 | Train Accuracy: 0.9653 | Val Loss: 0.1119 | Val Accuracy: 0.9685\n",
            "Epoch 77/100 | Train Loss: 0.1039 | Train Accuracy: 0.9661 | Val Loss: 0.1118 | Val Accuracy: 0.9692\n",
            "Epoch 78/100 | Train Loss: 0.1044 | Train Accuracy: 0.9666 | Val Loss: 0.1117 | Val Accuracy: 0.9698\n",
            "Epoch 79/100 | Train Loss: 0.1057 | Train Accuracy: 0.9660 | Val Loss: 0.1123 | Val Accuracy: 0.9692\n",
            "Epoch 80/100 | Train Loss: 0.1020 | Train Accuracy: 0.9666 | Val Loss: 0.1126 | Val Accuracy: 0.9698\n",
            "Epoch 81/100 | Train Loss: 0.1002 | Train Accuracy: 0.9658 | Val Loss: 0.1112 | Val Accuracy: 0.9705\n",
            "Epoch 82/100 | Train Loss: 0.0993 | Train Accuracy: 0.9668 | Val Loss: 0.1111 | Val Accuracy: 0.9705\n",
            "Epoch 83/100 | Train Loss: 0.0984 | Train Accuracy: 0.9660 | Val Loss: 0.1119 | Val Accuracy: 0.9692\n",
            "Epoch 84/100 | Train Loss: 0.0975 | Train Accuracy: 0.9664 | Val Loss: 0.1122 | Val Accuracy: 0.9705\n",
            "Epoch 85/100 | Train Loss: 0.0971 | Train Accuracy: 0.9669 | Val Loss: 0.1126 | Val Accuracy: 0.9698\n",
            "Epoch 86/100 | Train Loss: 0.0961 | Train Accuracy: 0.9669 | Val Loss: 0.1112 | Val Accuracy: 0.9705\n",
            "Epoch 87/100 | Train Loss: 0.0953 | Train Accuracy: 0.9668 | Val Loss: 0.1124 | Val Accuracy: 0.9698\n",
            "Early stopping triggered.\n"
          ]
        }
      ]
    },
    {
      "cell_type": "markdown",
      "source": [
        "# 5. Evaluating Model"
      ],
      "metadata": {
        "id": "qF4MCjZXE1Hz"
      }
    },
    {
      "cell_type": "code",
      "source": [
        "import matplotlib.pyplot as plt\n",
        "\n",
        "plt.figure(figsize=(15, 5))\n",
        "\n",
        "# Loss 그래프\n",
        "plt.subplot(1, 2, 1)\n",
        "plt.title(f\"GRU_{INPUT_SIZE}I_{HIDDEN_SIZE}H_{NUM_LAYERS}L_{WINDOW_SIZE}W_{ACCELERATION_DATA_TYPE[0]} Loss History\")\n",
        "plt.plot(train_loss_history, label='Train Loss')\n",
        "plt.plot(val_loss_history, label='Validation Loss')\n",
        "plt.xlabel('Epoch')\n",
        "plt.ylabel('Loss')\n",
        "plt.legend()\n",
        "\n",
        "# Accuracy 그래프\n",
        "plt.subplot(1, 2, 2)\n",
        "plt.title(f\"GRU_{INPUT_SIZE}I_{HIDDEN_SIZE}H_{NUM_LAYERS}L_{WINDOW_SIZE}W_{ACCELERATION_DATA_TYPE[0]} Accuracy History\")\n",
        "plt.plot(train_accuracy_history[1:], label='Train Accuracy')\n",
        "plt.plot(val_accuracy_history[1:], label='Validation Accuracy')\n",
        "plt.xlabel('Epoch')\n",
        "plt.ylabel('Accuracy')\n",
        "plt.legend()\n",
        "\n",
        "# 마지막 Accuracy 점 찍기 및 텍스트 표시\n",
        "last_epoch = len(train_accuracy_history) - 1\n",
        "\n",
        "# Train accuracy\n",
        "plt.scatter(last_epoch, train_accuracy_history[-1], color='blue')\n",
        "plt.text(last_epoch, train_accuracy_history[-1],\n",
        "         f\"{train_accuracy_history[-1]:.4f}\",\n",
        "         color='black', ha='center')\n",
        "\n",
        "\n",
        "# Validation accuracy\n",
        "plt.scatter(last_epoch, val_accuracy_history[-1], color='orange')\n",
        "plt.text(last_epoch, val_accuracy_history[-1],\n",
        "         f\"{val_accuracy_history[-1]:.4f}\",\n",
        "         color='black', ha='center')\n",
        "\n",
        "# 저장 및 출력\n",
        "plt.savefig(f\"GRU_{INPUT_SIZE}I_{HIDDEN_SIZE}H_{NUM_LAYERS}L_{WINDOW_SIZE}W_{ACCELERATION_DATA_TYPE[0]}_GRAPH\")\n",
        "plt.show()\n"
      ],
      "metadata": {
        "colab": {
          "base_uri": "https://localhost:8080/",
          "height": 487
        },
        "id": "PAqv11c7L65I",
        "outputId": "4a142637-84b4-4411-c8d4-d7414aad264f"
      },
      "execution_count": null,
      "outputs": [
        {
          "output_type": "display_data",
          "data": {
            "text/plain": [
              "<Figure size 1500x500 with 2 Axes>"
            ],
            "image/png": "[encoded data removed]"
          },
          "metadata": {}
        }
      ]
    },
    {
      "cell_type": "code",
      "source": [
        "# model.eval()\n",
        "\n",
        "# test_loss, correct = .0, 0\n",
        "\n",
        "# with torch.no_grad():\n",
        "#   for data, target in test_loader:\n",
        "#     data, target = data.permute(1, 0, 2).to(device, dtype = torch.float32), target.to(device)\n",
        "#     output = model(data)\n",
        "#     test_loss += criterion(output, target).item()\n",
        "#     correct += (output.argmax(1) == target).sum().item()\n",
        "\n",
        "# print('Test Loss: {:.6f}'.format(test_loss / len(test_loader)))\n",
        "# print('Accuracy: {:.3f}%'.format(100. * correct / len(test_loader.dataset)))\n"
      ],
      "metadata": {
        "id": "HJJSERXCCNxz"
      },
      "execution_count": null,
      "outputs": []
    },
    {
      "cell_type": "code",
      "source": [
        "model(data.to(device, dtype = torch.float32)[0][0].unsqueeze(0).unsqueeze(1))"
      ],
      "metadata": {
        "colab": {
          "base_uri": "https://localhost:8080/"
        },
        "id": "Z7eD9HlmCQdq",
        "outputId": "53b30365-c8e1-4746-97d5-257e996438f6"
      },
      "execution_count": null,
      "outputs": [
        {
          "output_type": "execute_result",
          "data": {
            "text/plain": [
              "tensor([[ 0.9508,  0.3272, -0.5618, -0.2580, -2.0523]], device='cuda:0',\n",
              "       grad_fn=<AddmmBackward0>)"
            ]
          },
          "metadata": {},
          "execution_count": 87
        }
      ]
    },
    {
      "cell_type": "markdown",
      "source": [
        "# 6. Downloading Model"
      ],
      "metadata": {
        "id": "LnzB8KF0E3e-"
      }
    },
    {
      "cell_type": "code",
      "source": [
        "# result = torch.jit.trace(model, data.permute(1, 0, 2).to(device, dtype = torch.float32))\n",
        "\n",
        "# result.save(f\"GRU_{INPUT_SIZE}I_{HIDDEN_SIZE}H_{NUM_LAYERS}L_{WINDOW_SIZE}W.pt\")"
      ],
      "metadata": {
        "id": "fgf9guCpE5U0"
      },
      "execution_count": null,
      "outputs": []
    },
    {
      "cell_type": "code",
      "metadata": {
        "colab": {
          "base_uri": "https://localhost:8080/"
        },
        "id": "52a332de",
        "outputId": "f0658fba-1a36-4e5b-b8a1-6a478700186e"
      },
      "source": [
        "!pip install onnx"
      ],
      "execution_count": null,
      "outputs": [
        {
          "output_type": "stream",
          "name": "stdout",
          "text": [
            "Requirement already satisfied: onnx in /usr/local/lib/python3.11/dist-packages (1.18.0)\n",
            "Requirement already satisfied: numpy>=1.22 in /usr/local/lib/python3.11/dist-packages (from onnx) (2.0.2)\n",
            "Requirement already satisfied: protobuf>=4.25.1 in /usr/local/lib/python3.11/dist-packages (from onnx) (5.29.5)\n",
            "Requirement already satisfied: typing_extensions>=4.7.1 in /usr/local/lib/python3.11/dist-packages (from onnx) (4.14.1)\n"
          ]
        }
      ]
    },
    {
      "cell_type": "code",
      "source": [
        "import torch.onnx\n",
        "\n",
        "torch.onnx.export(\n",
        "    model,\n",
        "    data.permute(1, 0, 2).to(device, dtype=torch.float32),\n",
        "    f\"GRU_{INPUT_SIZE}I_{HIDDEN_SIZE}H_{NUM_LAYERS}L_{WINDOW_SIZE}W_{ACCELERATION_DATA_TYPE[0]}.onnx\",\n",
        "    input_names=['input'],\n",
        "    output_names=['output'],\n",
        "    dynamic_axes={\n",
        "        'input': {0: 'seq_len', 1: 'batch_size'},\n",
        "    },\n",
        "    opset_version=12\n",
        ")"
      ],
      "metadata": {
        "colab": {
          "base_uri": "https://localhost:8080/"
        },
        "id": "SjQIiATBTSe5",
        "outputId": "3d3121d2-1086-42d0-d073-39a45eda829e"
      },
      "execution_count": null,
      "outputs": [
        {
          "output_type": "stream",
          "name": "stderr",
          "text": [
            "/usr/local/lib/python3.11/dist-packages/torch/onnx/symbolic_opset9.py:4277: UserWarning: Exporting a model to ONNX with a batch_size other than 1, with a variable length with GRU can cause an error when running the ONNX model with a different batch size. Make sure to save the model with a batch size of 1, or define the initial states (h0/c0) as inputs of the model. \n",
            "  warnings.warn(\n"
          ]
        }
      ]
    }
  ]
}