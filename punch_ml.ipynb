{
  "nbformat": 4,
  "nbformat_minor": 0,
  "metadata": {
    "colab": {
      "provenance": [],
      "gpuType": "V28",
      "authorship_tag": "ABX9TyNyEQqMC4YKBO5obO27R64q",
      "include_colab_link": true
    },
    "kernelspec": {
      "name": "python3",
      "display_name": "Python 3"
    },
    "language_info": {
      "name": "python"
    },
    "accelerator": "TPU"
  },
  "cells": [
    {
      "cell_type": "markdown",
      "metadata": {
        "id": "view-in-github",
        "colab_type": "text"
      },
      "source": [
        "<a href=\"https://colab.research.google.com/github/punch-boxing/punch-ml/blob/main/punch_ml.ipynb\" target=\"_parent\"><img src=\"https://colab.research.google.com/assets/colab-badge.svg\" alt=\"Open In Colab\"/></a>"
      ]
    },
    {
      "cell_type": "code",
      "source": [
        "!pip install tensorflow==2.18.* tf-keras==2.18.* tensorflowjs && export TF_USE_LEGACY_KERAS=1"
      ],
      "metadata": {
        "colab": {
          "base_uri": "https://localhost:8080/"
        },
        "id": "yAQKRZxsks7Y",
        "outputId": "d05814c6-4ea8-4d25-ca93-5bba21591d5c"
      },
      "execution_count": null,
      "outputs": [
        {
          "output_type": "stream",
          "name": "stdout",
          "text": [
            "Requirement already satisfied: tensorflow==2.18.* in /usr/local/lib/python3.11/dist-packages (2.18.0)\n",
            "Requirement already satisfied: tf-keras==2.18.* in /usr/local/lib/python3.11/dist-packages (2.18.0)\n",
            "Requirement already satisfied: tensorflowjs in /usr/local/lib/python3.11/dist-packages (4.22.0)\n",
            "Requirement already satisfied: absl-py>=1.0.0 in /usr/local/lib/python3.11/dist-packages (from tensorflow==2.18.*) (1.4.0)\n",
            "Requirement already satisfied: astunparse>=1.6.0 in /usr/local/lib/python3.11/dist-packages (from tensorflow==2.18.*) (1.6.3)\n",
            "Requirement already satisfied: flatbuffers>=24.3.25 in /usr/local/lib/python3.11/dist-packages (from tensorflow==2.18.*) (25.2.10)\n",
            "Requirement already satisfied: gast!=0.5.0,!=0.5.1,!=0.5.2,>=0.2.1 in /usr/local/lib/python3.11/dist-packages (from tensorflow==2.18.*) (0.6.0)\n",
            "Requirement already satisfied: google-pasta>=0.1.1 in /usr/local/lib/python3.11/dist-packages (from tensorflow==2.18.*) (0.2.0)\n",
            "Requirement already satisfied: libclang>=13.0.0 in /usr/local/lib/python3.11/dist-packages (from tensorflow==2.18.*) (18.1.1)\n",
            "Requirement already satisfied: opt-einsum>=2.3.2 in /usr/local/lib/python3.11/dist-packages (from tensorflow==2.18.*) (3.4.0)\n",
            "Requirement already satisfied: packaging in /usr/local/lib/python3.11/dist-packages (from tensorflow==2.18.*) (23.2)\n",
            "Requirement already satisfied: protobuf!=4.21.0,!=4.21.1,!=4.21.2,!=4.21.3,!=4.21.4,!=4.21.5,<6.0.0dev,>=3.20.3 in /usr/local/lib/python3.11/dist-packages (from tensorflow==2.18.*) (5.29.5)\n",
            "Requirement already satisfied: requests<3,>=2.21.0 in /usr/local/lib/python3.11/dist-packages (from tensorflow==2.18.*) (2.32.3)\n",
            "Requirement already satisfied: setuptools in /usr/local/lib/python3.11/dist-packages (from tensorflow==2.18.*) (75.2.0)\n",
            "Requirement already satisfied: six>=1.12.0 in /usr/local/lib/python3.11/dist-packages (from tensorflow==2.18.*) (1.17.0)\n",
            "Requirement already satisfied: termcolor>=1.1.0 in /usr/local/lib/python3.11/dist-packages (from tensorflow==2.18.*) (3.1.0)\n",
            "Requirement already satisfied: typing-extensions>=3.6.6 in /usr/local/lib/python3.11/dist-packages (from tensorflow==2.18.*) (4.14.1)\n",
            "Requirement already satisfied: wrapt>=1.11.0 in /usr/local/lib/python3.11/dist-packages (from tensorflow==2.18.*) (1.17.2)\n",
            "Requirement already satisfied: grpcio<2.0,>=1.24.3 in /usr/local/lib/python3.11/dist-packages (from tensorflow==2.18.*) (1.73.1)\n",
            "Requirement already satisfied: tensorboard<2.19,>=2.18 in /usr/local/lib/python3.11/dist-packages (from tensorflow==2.18.*) (2.18.0)\n",
            "Requirement already satisfied: keras>=3.5.0 in /usr/local/lib/python3.11/dist-packages (from tensorflow==2.18.*) (3.8.0)\n",
            "Requirement already satisfied: numpy<2.1.0,>=1.26.0 in /usr/local/lib/python3.11/dist-packages (from tensorflow==2.18.*) (2.0.2)\n",
            "Requirement already satisfied: h5py>=3.11.0 in /usr/local/lib/python3.11/dist-packages (from tensorflow==2.18.*) (3.14.0)\n",
            "Requirement already satisfied: ml-dtypes<0.5.0,>=0.4.0 in /usr/local/lib/python3.11/dist-packages (from tensorflow==2.18.*) (0.4.1)\n",
            "Requirement already satisfied: tensorflow-io-gcs-filesystem>=0.23.1 in /usr/local/lib/python3.11/dist-packages (from tensorflow==2.18.*) (0.37.1)\n",
            "Requirement already satisfied: flax>=0.7.2 in /usr/local/lib/python3.11/dist-packages (from tensorflowjs) (0.10.6)\n",
            "Requirement already satisfied: importlib_resources>=5.9.0 in /usr/local/lib/python3.11/dist-packages (from tensorflowjs) (6.5.2)\n",
            "Requirement already satisfied: jax>=0.4.13 in /usr/local/lib/python3.11/dist-packages (from tensorflowjs) (0.5.2)\n",
            "Requirement already satisfied: jaxlib>=0.4.13 in /usr/local/lib/python3.11/dist-packages (from tensorflowjs) (0.5.1)\n",
            "Requirement already satisfied: tensorflow-decision-forests>=1.5.0 in /usr/local/lib/python3.11/dist-packages (from tensorflowjs) (1.11.0)\n",
            "Requirement already satisfied: tensorflow-hub>=0.16.1 in /usr/local/lib/python3.11/dist-packages (from tensorflowjs) (0.16.1)\n",
            "Requirement already satisfied: wheel<1.0,>=0.23.0 in /usr/local/lib/python3.11/dist-packages (from astunparse>=1.6.0->tensorflow==2.18.*) (0.45.1)\n",
            "Requirement already satisfied: msgpack in /usr/local/lib/python3.11/dist-packages (from flax>=0.7.2->tensorflowjs) (1.1.1)\n",
            "Requirement already satisfied: optax in /usr/local/lib/python3.11/dist-packages (from flax>=0.7.2->tensorflowjs) (0.2.5)\n",
            "Requirement already satisfied: orbax-checkpoint in /usr/local/lib/python3.11/dist-packages (from flax>=0.7.2->tensorflowjs) (0.11.16)\n",
            "Requirement already satisfied: tensorstore in /usr/local/lib/python3.11/dist-packages (from flax>=0.7.2->tensorflowjs) (0.1.74)\n",
            "Requirement already satisfied: rich>=11.1 in /usr/local/lib/python3.11/dist-packages (from flax>=0.7.2->tensorflowjs) (14.0.0)\n",
            "Requirement already satisfied: PyYAML>=5.4.1 in /usr/local/lib/python3.11/dist-packages (from flax>=0.7.2->tensorflowjs) (6.0.2)\n",
            "Requirement already satisfied: treescope>=0.1.7 in /usr/local/lib/python3.11/dist-packages (from flax>=0.7.2->tensorflowjs) (0.1.9)\n",
            "Requirement already satisfied: scipy>=1.11.1 in /usr/local/lib/python3.11/dist-packages (from jax>=0.4.13->tensorflowjs) (1.15.3)\n",
            "Requirement already satisfied: namex in /usr/local/lib/python3.11/dist-packages (from keras>=3.5.0->tensorflow==2.18.*) (0.1.0)\n",
            "Requirement already satisfied: optree in /usr/local/lib/python3.11/dist-packages (from keras>=3.5.0->tensorflow==2.18.*) (0.16.0)\n",
            "Requirement already satisfied: charset-normalizer<4,>=2 in /usr/local/lib/python3.11/dist-packages (from requests<3,>=2.21.0->tensorflow==2.18.*) (3.4.2)\n",
            "Requirement already satisfied: idna<4,>=2.5 in /usr/local/lib/python3.11/dist-packages (from requests<3,>=2.21.0->tensorflow==2.18.*) (3.10)\n",
            "Requirement already satisfied: urllib3<3,>=1.21.1 in /usr/local/lib/python3.11/dist-packages (from requests<3,>=2.21.0->tensorflow==2.18.*) (2.4.0)\n",
            "Requirement already satisfied: certifi>=2017.4.17 in /usr/local/lib/python3.11/dist-packages (from requests<3,>=2.21.0->tensorflow==2.18.*) (2025.7.9)\n",
            "Requirement already satisfied: markdown>=2.6.8 in /usr/lib/python3/dist-packages (from tensorboard<2.19,>=2.18->tensorflow==2.18.*) (3.3.6)\n",
            "Requirement already satisfied: tensorboard-data-server<0.8.0,>=0.7.0 in /usr/local/lib/python3.11/dist-packages (from tensorboard<2.19,>=2.18->tensorflow==2.18.*) (0.7.2)\n",
            "Requirement already satisfied: werkzeug>=1.0.1 in /usr/local/lib/python3.11/dist-packages (from tensorboard<2.19,>=2.18->tensorflow==2.18.*) (3.1.3)\n",
            "Requirement already satisfied: pandas in /usr/local/lib/python3.11/dist-packages (from tensorflow-decision-forests>=1.5.0->tensorflowjs) (2.2.2)\n",
            "Requirement already satisfied: wurlitzer in /usr/local/lib/python3.11/dist-packages (from tensorflow-decision-forests>=1.5.0->tensorflowjs) (3.1.1)\n",
            "Requirement already satisfied: ydf in /usr/local/lib/python3.11/dist-packages (from tensorflow-decision-forests>=1.5.0->tensorflowjs) (0.12.0)\n",
            "Requirement already satisfied: markdown-it-py>=2.2.0 in /usr/local/lib/python3.11/dist-packages (from rich>=11.1->flax>=0.7.2->tensorflowjs) (3.0.0)\n",
            "Requirement already satisfied: pygments<3.0.0,>=2.13.0 in /usr/local/lib/python3.11/dist-packages (from rich>=11.1->flax>=0.7.2->tensorflowjs) (2.19.2)\n",
            "Requirement already satisfied: MarkupSafe>=2.1.1 in /usr/local/lib/python3.11/dist-packages (from werkzeug>=1.0.1->tensorboard<2.19,>=2.18->tensorflow==2.18.*) (3.0.2)\n",
            "Requirement already satisfied: chex>=0.1.87 in /usr/local/lib/python3.11/dist-packages (from optax->flax>=0.7.2->tensorflowjs) (0.1.89)\n",
            "Requirement already satisfied: etils[epath,epy] in /usr/local/lib/python3.11/dist-packages (from orbax-checkpoint->flax>=0.7.2->tensorflowjs) (1.12.2)\n",
            "Requirement already satisfied: nest_asyncio in /usr/local/lib/python3.11/dist-packages (from orbax-checkpoint->flax>=0.7.2->tensorflowjs) (1.6.0)\n",
            "Requirement already satisfied: humanize in /usr/local/lib/python3.11/dist-packages (from orbax-checkpoint->flax>=0.7.2->tensorflowjs) (4.12.3)\n",
            "Requirement already satisfied: simplejson>=3.16.0 in /usr/local/lib/python3.11/dist-packages (from orbax-checkpoint->flax>=0.7.2->tensorflowjs) (3.20.1)\n",
            "Requirement already satisfied: python-dateutil>=2.8.2 in /usr/local/lib/python3.11/dist-packages (from pandas->tensorflow-decision-forests>=1.5.0->tensorflowjs) (2.9.0.post0)\n",
            "Requirement already satisfied: pytz>=2020.1 in /usr/local/lib/python3.11/dist-packages (from pandas->tensorflow-decision-forests>=1.5.0->tensorflowjs) (2025.2)\n",
            "Requirement already satisfied: tzdata>=2022.7 in /usr/local/lib/python3.11/dist-packages (from pandas->tensorflow-decision-forests>=1.5.0->tensorflowjs) (2025.2)\n",
            "Requirement already satisfied: toolz>=0.9.0 in /usr/local/lib/python3.11/dist-packages (from chex>=0.1.87->optax->flax>=0.7.2->tensorflowjs) (1.0.0)\n",
            "Requirement already satisfied: mdurl~=0.1 in /usr/local/lib/python3.11/dist-packages (from markdown-it-py>=2.2.0->rich>=11.1->flax>=0.7.2->tensorflowjs) (0.1.2)\n",
            "Requirement already satisfied: fsspec in /usr/local/lib/python3.11/dist-packages (from etils[epath,epy]->orbax-checkpoint->flax>=0.7.2->tensorflowjs) (2025.5.1)\n",
            "Requirement already satisfied: zipp in /usr/local/lib/python3.11/dist-packages (from etils[epath,epy]->orbax-checkpoint->flax>=0.7.2->tensorflowjs) (3.23.0)\n"
          ]
        }
      ]
    },
    {
      "cell_type": "code",
      "source": [
        "import os\n",
        "os.environ[\"TF_USE_LEGACY_KERAS\"] = \"1\"\n",
        "\n",
        "import tf_keras as keras\n",
        "import tensorflow as tf\n",
        "from tensorflow import keras\n",
        "\n",
        "from sklearn.model_selection import train_test_split\n",
        "import matplotlib.pyplot as plt\n",
        "import tensorflowjs as tfjs\n",
        "import pandas as pd\n",
        "import numpy as np\n",
        "\n",
        "print(f\"tensorflowjs version: {tfjs.__version__}\")\n",
        "print(f\"tensorflow version: {tf.__version__}\")\n",
        "\n",
        "def is_using_legacy_keras():\n",
        "    return \"tf_keras\" in tf.keras.__file__\n",
        "\n",
        "print(\"Legacy Keras 2.x?\" , is_using_legacy_keras())\n",
        "\n",
        "from tensorflow.keras.models import Sequential\n",
        "from tensorflow.keras.layers import Dense, GRU"
      ],
      "metadata": {
        "colab": {
          "base_uri": "https://localhost:8080/",
          "height": 220
        },
        "id": "z_OO1uey8nFp",
        "outputId": "44ee7108-4db6-4629-fa8c-aeb7663afbf3"
      },
      "execution_count": null,
      "outputs": [
        {
          "output_type": "display_data",
          "data": {
            "text/plain": [
              "<IPython.core.display.HTML object>"
            ],
            "text/html": [
              "\n",
              "<p style=\"margin:0px;\">🌲 Try <a href=\"https://ydf.readthedocs.io/en/latest/\" target=\"_blank\">YDF</a>, the successor of\n",
              "    <a href=\"https://www.tensorflow.org/decision_forests\" target=\"_blank\">TensorFlow\n",
              "        Decision Forests</a> using the same algorithms but with more features and faster\n",
              "    training!\n",
              "</p>\n",
              "<div style=\"display: flex; flex-wrap: wrap; margin:5px;max-width: 880px;\">\n",
              "    <div style=\"flex: 1; border-radius: 10px; background-color: F0F0F0; padding: 5px;\">\n",
              "        <p\n",
              "            style=\"font-weight: bold; margin:0px;text-align: center;border-bottom: 1px solid #C0C0C0;margin-bottom: 4px;\">\n",
              "            Old code</p>\n",
              "        <pre style=\"overflow-wrap: anywhere; overflow: auto; margin:0px;font-size: 9pt;\">\n",
              "import tensorflow_decision_forests as tfdf\n",
              "\n",
              "tf_ds = tfdf.keras.pd_dataframe_to_tf_dataset(ds, label=\"l\")\n",
              "model = tfdf.keras.RandomForestModel(label=\"l\")\n",
              "model.fit(tf_ds)\n",
              "</pre>\n",
              "    </div>\n",
              "    <div style=\"width: 5px;\"></div>\n",
              "    <div style=\"flex: 1; border-radius: 10px; background-color: F0F0F0; padding: 5px;\">\n",
              "        <p\n",
              "            style=\"font-weight: bold; margin:0px;text-align: center;border-bottom: 1px solid #C0C0C0;margin-bottom: 4px;\">\n",
              "            New code</p>\n",
              "        <pre style=\"overflow-wrap: anywhere; overflow: auto; margin:0px;font-size: 9pt;\">\n",
              "import ydf\n",
              "\n",
              "model = ydf.RandomForestLearner(label=\"l\").train(ds)\n",
              "</pre>\n",
              "    </div>\n",
              "</div>\n",
              "<p style=\"margin:0px;font-size: 9pt;\">(Learn more in the <a\n",
              "        href=\"https://ydf.readthedocs.io/en/latest/tutorial/migrating_to_ydf/\" target=\"_blank\">migration\n",
              "        guide</a>)</p>\n"
            ]
          },
          "metadata": {}
        },
        {
          "output_type": "stream",
          "name": "stdout",
          "text": [
            "tensorflowjs version: 4.22.0\n",
            "tensorflow version: 2.18.0\n",
            "Legacy Keras 2.x? True\n"
          ]
        }
      ]
    },
    {
      "cell_type": "code",
      "source": [
        "MODEL_INPUT_DIMENSION = 5\n",
        "MODEL_GRU_UNITS = 1\n",
        "WINDOW_SIZE = 20\n",
        "PUNCH_TYPES = {\n",
        "    \"None\": 0,\n",
        "    \"Straight\": 1,\n",
        "    \"Hook\": 2,\n",
        "    \"Body\": 3,\n",
        "    \"Uppercut\": 4,\n",
        "}"
      ],
      "metadata": {
        "id": "HDD9z9vKkvAU"
      },
      "execution_count": null,
      "outputs": []
    },
    {
      "cell_type": "code",
      "source": [
        "datas = []\n",
        "\n",
        "for i in range(14):\n",
        "  try:\n",
        "    data = pd.read_csv(f\"{i}.csv\")\n",
        "    data[\"punch\"] = data[\"punch\"].map(PUNCH_TYPES).fillna(0).astype(int)\n",
        "    datas.append(data)\n",
        "  except:\n",
        "    pass\n",
        "\n",
        "datas"
      ],
      "metadata": {
        "colab": {
          "base_uri": "https://localhost:8080/"
        },
        "id": "VEiPppAn8oO8",
        "outputId": "8b6399d0-ea3b-430f-9a40-76ff770d7641"
      },
      "execution_count": null,
      "outputs": [
        {
          "output_type": "execute_result",
          "data": {
            "text/plain": [
              "[     index    time     acc x     acc y     acc z     ori x     ori z  punch\n",
              " 0        0   0.000 -0.405289 -0.607330 -1.188766 -0.890514 -0.290511      0\n",
              " 1        1   0.050 -0.153671 -0.573166 -0.833878 -0.824100  0.150148      0\n",
              " 2        2   0.100 -0.219376 -0.618225 -0.683289 -0.741530  0.231601      0\n",
              " 3        3   0.150 -0.100403 -0.621979 -0.410110 -0.550472  0.133559      0\n",
              " 4        4   0.199  0.034866 -0.581284 -0.488037 -0.643006 -0.045889      0\n",
              " ..     ...     ...       ...       ...       ...       ...       ...    ...\n",
              " 840    840  50.150 -0.057327 -0.530457 -0.895782 -0.860451  0.054983      0\n",
              " 841    841  50.200 -0.053070 -0.511841 -0.812149 -0.846004  0.055198      0\n",
              " 842    842  50.250 -0.188019 -0.595490 -0.798111 -0.801489  0.185536      0\n",
              " 843    843  50.300 -0.181549 -0.613159 -0.767761 -0.781390  0.181696      0\n",
              " 844    844  50.349 -0.132629 -0.665482 -0.563873 -0.646459  0.150327      0\n",
              " \n",
              " [845 rows x 8 columns],\n",
              "      index    time     acc x     acc y     acc z     ori x     ori z  punch\n",
              " 0        0   0.000  0.158447 -0.918182 -0.487167 -0.468692  0.150698      0\n",
              " 1        1   0.050  0.174469 -0.911194 -0.468414 -0.457194 -0.167873      0\n",
              " 2        2   0.100  0.138626 -0.889526 -0.482147 -0.476528 -0.135742      0\n",
              " 3        3   0.150  0.204376 -0.818970 -0.428345 -0.463464 -0.215917      0\n",
              " 4        4   0.200  0.232773 -0.789597 -0.373566 -0.427662 -0.257495      0\n",
              " ..     ...     ...       ...       ...       ...       ...       ...    ...\n",
              " 650    650  39.591  0.209396 -0.726257 -0.743073 -0.715152 -0.197557      0\n",
              " 651    651  39.641  0.084625 -0.709122 -0.649811 -0.675602 -0.087645      0\n",
              " 652    652  39.691  0.114319 -0.787491 -0.641083 -0.631332 -0.111873      0\n",
              " 653    653  39.740  0.062531 -0.781372 -0.695236 -0.664729 -0.059680      0\n",
              " 654    654  39.790  0.216461 -0.729248 -0.668945 -0.675982 -0.213686      0\n",
              " \n",
              " [655 rows x 8 columns],\n",
              "      index    time     acc x     acc y     acc z     ori x     ori z  punch\n",
              " 0        0   0.000 -0.612381 -0.441284 -0.810074 -0.878157 -0.553074      0\n",
              " 1        1   0.050 -0.244568 -0.292618 -1.002716 -0.891245 -0.525781      0\n",
              " 2        2   0.100 -0.831009 -0.699722 -1.143250 -0.879093 -0.570223      0\n",
              " 3        3   0.150 -0.146011 -0.318848 -0.338089 -0.727506  0.299743      0\n",
              " 4        4   0.199  0.010345 -0.263336 -0.986374 -0.703266  0.201125      0\n",
              " ..     ...     ...       ...       ...       ...       ...       ...    ...\n",
              " 805    805  51.971 -0.103531 -0.266968 -0.909607 -0.960798  0.133322      0\n",
              " 806    806  52.021 -0.111038 -0.239960 -1.035553 -0.964524  0.128528      0\n",
              " 807    807  52.071 -0.066498 -0.235199 -1.042160 -0.965339  0.126548      0\n",
              " 808    808  52.120 -0.097061 -0.254456 -0.951920 -0.963630  0.124936      0\n",
              " 809    809  52.170 -0.047577 -0.275604 -1.287918 -0.963008  0.120750      0\n",
              " \n",
              " [810 rows x 8 columns],\n",
              "      index    time     acc x     acc y     acc z     ori x     ori z  punch\n",
              " 0        0   0.000 -0.038437 -0.825714 -0.527390 -0.538281 -0.039200      0\n",
              " 1        1   0.050  0.049347 -0.778473 -0.579956 -0.597427 -0.050768      0\n",
              " 2        2   0.100  0.013199 -0.764191 -0.684799 -0.667363 -0.012862      0\n",
              " 3        3   0.150  0.028931 -0.764587 -0.648315 -0.646731 -0.028848      0\n",
              " 4        4   0.200  0.001068 -0.750885 -0.690353 -0.676812 -0.001047      0\n",
              " ..     ...     ...       ...       ...       ...       ...       ...    ...\n",
              " 812    812  53.851 -0.033691 -0.745590 -0.697205 -0.683009  0.032987      0\n",
              " 813    813  53.901 -0.014511 -0.700760 -0.589142 -0.643515  0.015848      0\n",
              " 814    814  53.951 -0.131073 -0.668335 -0.897156 -0.662001  0.024257      0\n",
              " 815    815  54.001 -0.175430 -0.692734 -0.764816 -0.741171  0.167602      0\n",
              " 816    816  54.051  0.112564 -0.547485 -0.836792 -0.836808 -0.111860      0\n",
              " \n",
              " [817 rows x 8 columns],\n",
              "      index    time     acc x     acc y     acc z     ori x     ori z  punch\n",
              " 0        0   0.000  0.008224 -0.316650 -1.126328 -0.962680  0.007029      0\n",
              " 1        1   0.050  0.238159 -0.114365 -1.087189 -0.951130  0.019976      0\n",
              " 2        2   0.100  0.466705 -0.258362 -0.723053 -0.922158  0.092151      0\n",
              " 3        3   0.150  0.373444 -0.273834 -0.456863 -0.879827  0.223845      0\n",
              " 4        4   0.200 -0.238342 -0.852280 -0.649017 -0.605843  0.217177      0\n",
              " ..     ...     ...       ...       ...       ...       ...       ...    ...\n",
              " 853    853  56.304 -0.062210 -0.496429 -0.936737 -0.865328  0.055841      0\n",
              " 854    854  56.354 -0.102081 -0.499084 -0.802139 -0.849068  0.107428      0\n",
              " 855    855  56.404 -0.050079 -0.459808 -0.952835 -0.854780  0.101703      0\n",
              " 856    856  56.453 -0.117630 -0.527939 -0.846390 -0.848473  0.117108      0\n",
              " 857    857  56.503  0.179489 -0.490524 -0.744232 -0.834954 -0.197406      0\n",
              " \n",
              " [858 rows x 8 columns],\n",
              "       index    time     acc x     acc y     acc z     ori x     ori z  punch\n",
              " 0         0   0.000 -0.045517 -0.244186 -1.077164 -0.975255 -0.041176      0\n",
              " 1         1   0.049 -0.009476 -0.282883 -0.911682 -0.965466 -0.049466      0\n",
              " 2         2   0.099 -0.092010 -0.310333 -0.995193 -0.946310 -0.052241      0\n",
              " 3         3   0.149 -0.153839 -0.386551 -0.898331 -0.930244 -0.046020      0\n",
              " 4         4   0.199 -0.219406 -0.428909 -0.907486 -0.911412 -0.059575      0\n",
              " ...     ...     ...       ...       ...       ...       ...       ...    ...\n",
              " 1190   1190  69.882  0.587402 -0.125290  1.063156 -0.380812 -0.839219      0\n",
              " 1191   1191  69.932  0.920532 -0.648956  0.438339 -0.735193 -0.879170      0\n",
              " 1192   1192  69.982  1.270569 -0.930847  0.231155 -0.919338 -0.922676      0\n",
              " 1193   1193  70.032  0.238678 -0.900970 -0.493835 -0.480649 -0.226279      0\n",
              " 1194   1194  70.082  0.152817 -0.566360 -0.937820 -0.692296 -0.268934      0\n",
              " \n",
              " [1195 rows x 8 columns],\n",
              "      index    time     acc x     acc y     acc z     ori x     ori z  punch\n",
              " 0        0   0.000  0.112808 -0.789902 -0.577042 -0.589887  0.114560      0\n",
              " 1        1   0.050  0.114334 -0.775528 -0.584396 -0.601811 -0.116933      0\n",
              " 2        2   0.100  0.078369 -0.796692 -0.580414 -0.588836 -0.079256      0\n",
              " 3        3   0.150  0.112213 -0.786163 -0.549332 -0.572774 -0.116209      0\n",
              " 4        4   0.200  0.069244 -0.809921 -0.629501 -0.613675 -0.067350      0\n",
              " ..     ...     ...       ...       ...       ...       ...       ...    ...\n",
              " 286    286  17.106  0.095993 -0.723526 -0.719452 -0.705108 -0.093666      0\n",
              " 287    287  17.156  0.159760 -0.765900 -0.632553 -0.636794 -0.158790      0\n",
              " 288    288  17.206  0.188690 -0.727615 -0.622269 -0.649947 -0.193364      0\n",
              " 289    289  17.256  0.221268 -0.781662 -0.650253 -0.639527 -0.212641      0\n",
              " 290    290  17.306  0.183655 -0.864105 -0.419632 -0.436840 -0.187785      0\n",
              " \n",
              " [291 rows x 8 columns],\n",
              "       index    time     acc x     acc y     acc z     ori x     ori z  punch\n",
              " 0         0   0.000 -0.189804 -0.621399 -0.869720 -0.813658 -0.174834      0\n",
              " 1         1   0.050 -0.113342 -0.576569 -0.680756 -0.763085  0.126037      0\n",
              " 2         2   0.100  0.088669 -0.517838 -0.602249 -0.758245 -0.110947      0\n",
              " 3         3   0.150 -0.118134 -0.590927 -0.745407 -0.783630  0.123244      0\n",
              " 4         4   0.199  0.044128 -0.700638 -0.599243 -0.649976 -0.047810      0\n",
              " ...     ...     ...       ...       ...       ...       ...       ...    ...\n",
              " 1369   1369  86.640  0.039795 -0.373642 -0.944641 -0.786794 -0.092578      0\n",
              " 1370   1370  86.690  0.124390 -0.406189 -0.659210 -0.851358 -0.158613      0\n",
              " 1371   1371  86.740  0.073288 -0.506744 -0.846878 -0.858110 -0.074056      0\n",
              " 1372   1372  86.790  0.093613 -0.548355 -0.768250 -0.813931 -0.098695      0\n",
              " 1373   1373  86.839  0.362869 -0.465485 -0.857391 -0.827154 -0.092143      0\n",
              " \n",
              " [1374 rows x 8 columns],\n",
              "      index    time     acc x     acc y     acc z     ori x     ori z  punch\n",
              " 0        0   0.000 -0.167786 -0.844788 -0.572647 -0.561098 -0.162224      0\n",
              " 1        1   0.050 -0.128616 -0.852219 -0.482925 -0.493014  0.130186      0\n",
              " 2        2   0.099 -0.153549 -0.873352 -0.530350 -0.519050  0.148609      0\n",
              " 3        3   0.149 -0.147781 -0.927597 -0.329605 -0.334823  0.148457      0\n",
              " 4        4   0.199 -0.186142 -0.959137 -0.487900 -0.453397  0.170447      0\n",
              " ..     ...     ...       ...       ...       ...       ...       ...    ...\n",
              " 387    387  21.755  0.515030 -0.932693  0.034103  0.036540 -0.483147      0\n",
              " 388    388  21.805  0.777725 -0.999527  0.004318  0.130497 -0.460396      0\n",
              " 389    389  21.855  1.280777 -1.272629  0.179581  0.242944 -0.394879      0\n",
              " 390    390  22.094  1.920273  2.125732 -1.811737 -0.107215 -0.443259      0\n",
              " 391    391  22.144 -1.285080 -0.853455  1.974518  0.048093 -0.379850      0\n",
              " \n",
              " [392 rows x 8 columns]]"
            ]
          },
          "metadata": {},
          "execution_count": 4
        }
      ]
    },
    {
      "cell_type": "code",
      "source": [
        "X = []\n",
        "y = []\n",
        "\n",
        "for df in datas:\n",
        "  acc_x = df['acc x'].values\n",
        "  acc_y = df['acc y'].values\n",
        "  acc_z = df['acc z'].values\n",
        "  ori_x = df['ori x'].values\n",
        "  ori_z = df['ori z'].values\n",
        "  punch = df['punch'].values\n",
        "\n",
        "  for i in range(len(df) - WINDOW_SIZE):\n",
        "    X.append(np.array([\n",
        "        acc_x[i:i+WINDOW_SIZE],\n",
        "        acc_y[i:i+WINDOW_SIZE],\n",
        "        acc_z[i:i+WINDOW_SIZE],\n",
        "        ori_x[i:i+WINDOW_SIZE],\n",
        "        ori_z[i:i+WINDOW_SIZE]\n",
        "    ]).T) # Transpose to get shape (WINDOW_SIZE, num_features)\n",
        "    y.append(punch[i+WINDOW_SIZE])\n",
        "\n",
        "X = np.array(X)\n",
        "y = np.array(y)\n",
        "\n",
        "X_train, X_test, y_train, y_test = train_test_split(X, y, test_size=0.2, random_state=42)\n",
        "\n",
        "print(\"X_train shape:\", X_train.shape)\n",
        "print(\"y_train shape:\", y_train.shape)\n",
        "print(\"X_test shape:\", X_test.shape)\n",
        "print(\"y_test shape:\", y_test.shape)"
      ],
      "metadata": {
        "colab": {
          "base_uri": "https://localhost:8080/"
        },
        "id": "5vA8H-h99gi_",
        "outputId": "b839feed-a0c7-4d1c-bb3d-454e27cb8108"
      },
      "execution_count": null,
      "outputs": [
        {
          "output_type": "stream",
          "name": "stdout",
          "text": [
            "X_train shape: (5645, 20, 5)\n",
            "y_train shape: (5645,)\n",
            "X_test shape: (1412, 20, 5)\n",
            "y_test shape: (1412,)\n"
          ]
        }
      ]
    },
    {
      "cell_type": "markdown",
      "source": [
        "# 1. GRU model that has a 5 dimension vector input(acc x, y, z & ori x, z)"
      ],
      "metadata": {
        "id": "Hr9Y28h1-dco"
      }
    },
    {
      "cell_type": "code",
      "source": [
        "model = Sequential()\n",
        "model.add(GRU(MODEL_GRU_UNITS, input_shape=(None, MODEL_INPUT_DIMENSION)))\n",
        "model.add(Dense(len(PUNCH_TYPES), activation='softmax'))\n",
        "model.compile(optimizer='adam', loss='sparse_categorical_crossentropy', metrics=['accuracy'])\n",
        "model.summary()"
      ],
      "metadata": {
        "colab": {
          "base_uri": "https://localhost:8080/"
        },
        "id": "v45miR9K-dKB",
        "outputId": "aed62622-da39-407c-b4db-883b09b60e7a"
      },
      "execution_count": null,
      "outputs": [
        {
          "output_type": "stream",
          "name": "stdout",
          "text": [
            "Model: \"sequential_1\"\n",
            "_________________________________________________________________\n",
            " Layer (type)                Output Shape              Param #   \n",
            "=================================================================\n",
            " gru_1 (GRU)                 (None, 1)                 24        \n",
            "                                                                 \n",
            " dense_1 (Dense)             (None, 5)                 10        \n",
            "                                                                 \n",
            "=================================================================\n",
            "Total params: 34 (136.00 Byte)\n",
            "Trainable params: 34 (136.00 Byte)\n",
            "Non-trainable params: 0 (0.00 Byte)\n",
            "_________________________________________________________________\n"
          ]
        }
      ]
    },
    {
      "cell_type": "code",
      "source": [
        "from tensorflow.keras.callbacks import EarlyStopping\n",
        "\n",
        "early_stop = EarlyStopping(monitor='val_loss', patience=5, min_delta=0.0005, restore_best_weights=True)"
      ],
      "metadata": {
        "id": "q0w-fUXrhSd3"
      },
      "execution_count": null,
      "outputs": []
    },
    {
      "cell_type": "code",
      "source": [
        "history = model.fit(X_train,y_train,epochs=250,validation_data=(X_test,y_test), callbacks=[early_stop])\n",
        "\n",
        "plt.figure(figsize=(12, 4))\n",
        "\n",
        "# Plot training & validation accuracy\n",
        "plt.subplot(1, 2, 1)\n",
        "plt.plot(history.history['accuracy'])\n",
        "plt.plot(history.history['val_accuracy'])\n",
        "plt.title('Model accuracy')\n",
        "plt.ylabel('Accuracy')\n",
        "plt.xlabel('Epoch')\n",
        "plt.legend(['Train', 'Validation'], loc='upper left')\n",
        "\n",
        "# Plot training & validation loss\n",
        "plt.subplot(1, 2, 2)\n",
        "plt.plot(history.history['loss'])\n",
        "plt.plot(history.history['val_loss'])\n",
        "plt.title('Model loss')\n",
        "plt.ylabel('Loss')\n",
        "plt.xlabel('Epoch')\n",
        "plt.legend(['Train', 'Validation'], loc='upper left')\n",
        "\n",
        "plt.tight_layout()\n",
        "plt.show()"
      ],
      "metadata": {
        "colab": {
          "base_uri": "https://localhost:8080/",
          "height": 1000
        },
        "id": "3ncSZyN7-a7Y",
        "outputId": "e66af79e-c8ef-4f9e-d9bf-9b424a7722df"
      },
      "execution_count": null,
      "outputs": [
        {
          "output_type": "stream",
          "name": "stdout",
          "text": [
            "Epoch 1/100\n",
            "177/177 [==============================] - 4s 10ms/step - loss: 1.4229 - accuracy: 0.3006 - val_loss: 1.1803 - val_accuracy: 0.9511\n",
            "Epoch 2/100\n",
            "177/177 [==============================] - 1s 7ms/step - loss: 0.9558 - accuracy: 0.9619 - val_loss: 0.7648 - val_accuracy: 0.9603\n",
            "Epoch 3/100\n",
            "177/177 [==============================] - 1s 7ms/step - loss: 0.6373 - accuracy: 0.9640 - val_loss: 0.5376 - val_accuracy: 0.9603\n",
            "Epoch 4/100\n",
            "177/177 [==============================] - 1s 6ms/step - loss: 0.4649 - accuracy: 0.9640 - val_loss: 0.4134 - val_accuracy: 0.9603\n",
            "Epoch 5/100\n",
            "177/177 [==============================] - 1s 7ms/step - loss: 0.3685 - accuracy: 0.9640 - val_loss: 0.3420 - val_accuracy: 0.9603\n",
            "Epoch 6/100\n",
            "177/177 [==============================] - 1s 7ms/step - loss: 0.3114 - accuracy: 0.9640 - val_loss: 0.2988 - val_accuracy: 0.9603\n",
            "Epoch 7/100\n",
            "177/177 [==============================] - 1s 7ms/step - loss: 0.2754 - accuracy: 0.9640 - val_loss: 0.2704 - val_accuracy: 0.9603\n",
            "Epoch 8/100\n",
            "177/177 [==============================] - 1s 7ms/step - loss: 0.2508 - accuracy: 0.9640 - val_loss: 0.2500 - val_accuracy: 0.9603\n",
            "Epoch 9/100\n",
            "177/177 [==============================] - 1s 7ms/step - loss: 0.2334 - accuracy: 0.9640 - val_loss: 0.2359 - val_accuracy: 0.9603\n",
            "Epoch 10/100\n",
            "177/177 [==============================] - 1s 7ms/step - loss: 0.2205 - accuracy: 0.9640 - val_loss: 0.2256 - val_accuracy: 0.9603\n",
            "Epoch 11/100\n",
            "177/177 [==============================] - 1s 7ms/step - loss: 0.2105 - accuracy: 0.9639 - val_loss: 0.2176 - val_accuracy: 0.9603\n",
            "Epoch 12/100\n",
            "177/177 [==============================] - 1s 7ms/step - loss: 0.2021 - accuracy: 0.9639 - val_loss: 0.2105 - val_accuracy: 0.9596\n",
            "Epoch 13/100\n",
            "177/177 [==============================] - 1s 7ms/step - loss: 0.1942 - accuracy: 0.9639 - val_loss: 0.2037 - val_accuracy: 0.9589\n",
            "Epoch 14/100\n",
            "177/177 [==============================] - 1s 6ms/step - loss: 0.1870 - accuracy: 0.9639 - val_loss: 0.1979 - val_accuracy: 0.9596\n",
            "Epoch 15/100\n",
            "177/177 [==============================] - 1s 7ms/step - loss: 0.1808 - accuracy: 0.9637 - val_loss: 0.1932 - val_accuracy: 0.9596\n",
            "Epoch 16/100\n",
            "177/177 [==============================] - 1s 7ms/step - loss: 0.1755 - accuracy: 0.9633 - val_loss: 0.1893 - val_accuracy: 0.9596\n",
            "Epoch 17/100\n",
            "177/177 [==============================] - 1s 7ms/step - loss: 0.1713 - accuracy: 0.9632 - val_loss: 0.1860 - val_accuracy: 0.9596\n",
            "Epoch 18/100\n",
            "177/177 [==============================] - 1s 7ms/step - loss: 0.1677 - accuracy: 0.9630 - val_loss: 0.1835 - val_accuracy: 0.9596\n",
            "Epoch 19/100\n",
            "177/177 [==============================] - 1s 6ms/step - loss: 0.1647 - accuracy: 0.9630 - val_loss: 0.1813 - val_accuracy: 0.9603\n",
            "Epoch 20/100\n",
            "177/177 [==============================] - 1s 6ms/step - loss: 0.1621 - accuracy: 0.9624 - val_loss: 0.1796 - val_accuracy: 0.9603\n",
            "Epoch 21/100\n",
            "177/177 [==============================] - 1s 7ms/step - loss: 0.1598 - accuracy: 0.9626 - val_loss: 0.1779 - val_accuracy: 0.9603\n",
            "Epoch 22/100\n",
            "177/177 [==============================] - 1s 6ms/step - loss: 0.1579 - accuracy: 0.9628 - val_loss: 0.1768 - val_accuracy: 0.9603\n",
            "Epoch 23/100\n",
            "177/177 [==============================] - 1s 6ms/step - loss: 0.1562 - accuracy: 0.9626 - val_loss: 0.1755 - val_accuracy: 0.9610\n",
            "Epoch 24/100\n",
            "177/177 [==============================] - 1s 6ms/step - loss: 0.1548 - accuracy: 0.9630 - val_loss: 0.1748 - val_accuracy: 0.9610\n",
            "Epoch 25/100\n",
            "177/177 [==============================] - 1s 6ms/step - loss: 0.1536 - accuracy: 0.9630 - val_loss: 0.1739 - val_accuracy: 0.9610\n",
            "Epoch 26/100\n",
            "177/177 [==============================] - 1s 6ms/step - loss: 0.1525 - accuracy: 0.9630 - val_loss: 0.1730 - val_accuracy: 0.9610\n",
            "Epoch 27/100\n",
            "177/177 [==============================] - 1s 7ms/step - loss: 0.1515 - accuracy: 0.9630 - val_loss: 0.1723 - val_accuracy: 0.9610\n",
            "Epoch 28/100\n",
            "177/177 [==============================] - 1s 7ms/step - loss: 0.1506 - accuracy: 0.9632 - val_loss: 0.1719 - val_accuracy: 0.9603\n",
            "Epoch 29/100\n",
            "177/177 [==============================] - 1s 7ms/step - loss: 0.1498 - accuracy: 0.9628 - val_loss: 0.1709 - val_accuracy: 0.9603\n",
            "Epoch 30/100\n",
            "177/177 [==============================] - 1s 6ms/step - loss: 0.1490 - accuracy: 0.9630 - val_loss: 0.1703 - val_accuracy: 0.9603\n",
            "Epoch 31/100\n",
            "177/177 [==============================] - 1s 6ms/step - loss: 0.1483 - accuracy: 0.9633 - val_loss: 0.1698 - val_accuracy: 0.9603\n",
            "Epoch 32/100\n",
            "177/177 [==============================] - 1s 6ms/step - loss: 0.1476 - accuracy: 0.9632 - val_loss: 0.1692 - val_accuracy: 0.9603\n",
            "Epoch 33/100\n",
            "177/177 [==============================] - 1s 7ms/step - loss: 0.1472 - accuracy: 0.9637 - val_loss: 0.1688 - val_accuracy: 0.9603\n",
            "Epoch 34/100\n",
            "177/177 [==============================] - 1s 7ms/step - loss: 0.1466 - accuracy: 0.9633 - val_loss: 0.1684 - val_accuracy: 0.9610\n",
            "Epoch 35/100\n",
            "177/177 [==============================] - 1s 7ms/step - loss: 0.1461 - accuracy: 0.9635 - val_loss: 0.1679 - val_accuracy: 0.9610\n",
            "Epoch 36/100\n",
            "177/177 [==============================] - 1s 7ms/step - loss: 0.1457 - accuracy: 0.9633 - val_loss: 0.1675 - val_accuracy: 0.9610\n",
            "Epoch 37/100\n",
            "177/177 [==============================] - 1s 7ms/step - loss: 0.1452 - accuracy: 0.9639 - val_loss: 0.1669 - val_accuracy: 0.9610\n",
            "Epoch 38/100\n",
            "177/177 [==============================] - 1s 7ms/step - loss: 0.1448 - accuracy: 0.9639 - val_loss: 0.1667 - val_accuracy: 0.9610\n",
            "Epoch 39/100\n",
            "177/177 [==============================] - 1s 7ms/step - loss: 0.1444 - accuracy: 0.9639 - val_loss: 0.1665 - val_accuracy: 0.9610\n",
            "Epoch 40/100\n",
            "177/177 [==============================] - 1s 6ms/step - loss: 0.1441 - accuracy: 0.9639 - val_loss: 0.1663 - val_accuracy: 0.9610\n",
            "Epoch 41/100\n",
            "177/177 [==============================] - 1s 7ms/step - loss: 0.1438 - accuracy: 0.9640 - val_loss: 0.1659 - val_accuracy: 0.9610\n",
            "Epoch 42/100\n",
            "177/177 [==============================] - 1s 7ms/step - loss: 0.1435 - accuracy: 0.9640 - val_loss: 0.1655 - val_accuracy: 0.9610\n",
            "Epoch 43/100\n",
            "177/177 [==============================] - 1s 7ms/step - loss: 0.1431 - accuracy: 0.9640 - val_loss: 0.1651 - val_accuracy: 0.9610\n",
            "Epoch 44/100\n",
            "177/177 [==============================] - 1s 7ms/step - loss: 0.1429 - accuracy: 0.9639 - val_loss: 0.1651 - val_accuracy: 0.9603\n",
            "Epoch 45/100\n",
            "177/177 [==============================] - 1s 7ms/step - loss: 0.1427 - accuracy: 0.9640 - val_loss: 0.1643 - val_accuracy: 0.9603\n",
            "Epoch 46/100\n",
            "177/177 [==============================] - 1s 6ms/step - loss: 0.1423 - accuracy: 0.9639 - val_loss: 0.1646 - val_accuracy: 0.9603\n",
            "Epoch 47/100\n",
            "177/177 [==============================] - 1s 7ms/step - loss: 0.1421 - accuracy: 0.9639 - val_loss: 0.1643 - val_accuracy: 0.9603\n",
            "Epoch 48/100\n",
            "177/177 [==============================] - 1s 7ms/step - loss: 0.1420 - accuracy: 0.9640 - val_loss: 0.1642 - val_accuracy: 0.9603\n",
            "Epoch 49/100\n",
            "177/177 [==============================] - 1s 6ms/step - loss: 0.1417 - accuracy: 0.9637 - val_loss: 0.1637 - val_accuracy: 0.9603\n",
            "Epoch 50/100\n",
            "177/177 [==============================] - 1s 6ms/step - loss: 0.1416 - accuracy: 0.9639 - val_loss: 0.1638 - val_accuracy: 0.9603\n",
            "Epoch 51/100\n",
            "177/177 [==============================] - 1s 6ms/step - loss: 0.1413 - accuracy: 0.9637 - val_loss: 0.1632 - val_accuracy: 0.9603\n",
            "Epoch 52/100\n",
            "177/177 [==============================] - 1s 6ms/step - loss: 0.1412 - accuracy: 0.9639 - val_loss: 0.1633 - val_accuracy: 0.9603\n",
            "Epoch 53/100\n",
            "177/177 [==============================] - 1s 6ms/step - loss: 0.1410 - accuracy: 0.9637 - val_loss: 0.1631 - val_accuracy: 0.9603\n",
            "Epoch 54/100\n",
            "177/177 [==============================] - 1s 6ms/step - loss: 0.1409 - accuracy: 0.9637 - val_loss: 0.1628 - val_accuracy: 0.9603\n",
            "Epoch 55/100\n",
            "177/177 [==============================] - 1s 6ms/step - loss: 0.1407 - accuracy: 0.9637 - val_loss: 0.1626 - val_accuracy: 0.9603\n",
            "Epoch 56/100\n",
            "177/177 [==============================] - 1s 6ms/step - loss: 0.1406 - accuracy: 0.9637 - val_loss: 0.1627 - val_accuracy: 0.9603\n",
            "Epoch 57/100\n",
            "177/177 [==============================] - 1s 7ms/step - loss: 0.1405 - accuracy: 0.9637 - val_loss: 0.1626 - val_accuracy: 0.9603\n",
            "Epoch 58/100\n",
            "177/177 [==============================] - 1s 6ms/step - loss: 0.1404 - accuracy: 0.9637 - val_loss: 0.1626 - val_accuracy: 0.9603\n",
            "Epoch 59/100\n",
            "177/177 [==============================] - 1s 6ms/step - loss: 0.1402 - accuracy: 0.9637 - val_loss: 0.1624 - val_accuracy: 0.9603\n",
            "Epoch 60/100\n",
            "177/177 [==============================] - 1s 6ms/step - loss: 0.1401 - accuracy: 0.9639 - val_loss: 0.1623 - val_accuracy: 0.9603\n"
          ]
        },
        {
          "output_type": "display_data",
          "data": {
            "text/plain": [
              "<Figure size 1200x400 with 2 Axes>"
            ],
            "image/png": "[encoded data removed]"
          },
          "metadata": {}
        }
      ]
    },
    {
      "cell_type": "code",
      "source": [
        "model.evaluate(X_test,y_test)\n",
        "model.save(f\"GRU_{MODEL_INPUT_DIMENSION}D_{MODEL_GRU_UNITS}L_{WINDOW_SIZE}W.keras\")\n",
        "tfjs.converters.save_keras_model(model, f\"GRU_{MODEL_INPUT_DIMENSION}D_{MODEL_GRU_UNITS}L_{WINDOW_SIZE}W\")"
      ],
      "metadata": {
        "id": "SeVj0T6-Ayiy",
        "colab": {
          "base_uri": "https://localhost:8080/"
        },
        "outputId": "1e051883-8df7-41ea-85c3-c1e1be7136f3"
      },
      "execution_count": null,
      "outputs": [
        {
          "output_type": "stream",
          "name": "stdout",
          "text": [
            "45/45 [==============================] - 0s 2ms/step - loss: 0.1626 - accuracy: 0.9603\n"
          ]
        }
      ]
    },
    {
      "cell_type": "code",
      "source": [
        "zip_file_name = f\"GRU_{MODEL_INPUT_DIMENSION}D_{MODEL_GRU_UNITS}L_{WINDOW_SIZE}W.zip\"\n",
        "directory_to_zip = f\"GRU_{MODEL_INPUT_DIMENSION}D_{MODEL_GRU_UNITS}L_{WINDOW_SIZE}W\"\n",
        "\n",
        "import shutil\n",
        "shutil.make_archive(zip_file_name.replace('.zip', ''), 'zip', directory_to_zip)"
      ],
      "metadata": {
        "colab": {
          "base_uri": "https://localhost:8080/",
          "height": 35
        },
        "id": "0-IQMbFPngOu",
        "outputId": "92d7dec2-eb16-4195-b543-7e498de1b605"
      },
      "execution_count": null,
      "outputs": [
        {
          "output_type": "execute_result",
          "data": {
            "text/plain": [
              "'/content/GRU_5D_1L_20W.zip'"
            ],
            "application/vnd.google.colaboratory.intrinsic+json": {
              "type": "string"
            }
          },
          "metadata": {},
          "execution_count": 18
        }
      ]
    }
  ]
}